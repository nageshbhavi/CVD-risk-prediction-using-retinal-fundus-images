{
 "cells": [
  {
   "cell_type": "code",
   "execution_count": 2,
   "id": "56ee2177-6916-4502-880f-15ae06071ddb",
   "metadata": {},
   "outputs": [
    {
     "name": "stdout",
     "output_type": "stream",
     "text": [
      "Collecting imblearn\n",
      "  Downloading imblearn-0.0-py2.py3-none-any.whl.metadata (355 bytes)\n",
      "Collecting imbalanced-learn (from imblearn)\n",
      "  Downloading imbalanced_learn-0.13.0-py3-none-any.whl.metadata (8.8 kB)\n",
      "Requirement already satisfied: numpy<3,>=1.24.3 in c:\\users\\91914\\appdata\\local\\programs\\python\\python312\\lib\\site-packages (from imbalanced-learn->imblearn) (1.26.4)\n",
      "Requirement already satisfied: scipy<2,>=1.10.1 in c:\\users\\91914\\appdata\\local\\programs\\python\\python312\\lib\\site-packages (from imbalanced-learn->imblearn) (1.13.0)\n",
      "Requirement already satisfied: scikit-learn<2,>=1.3.2 in c:\\users\\91914\\appdata\\local\\programs\\python\\python312\\lib\\site-packages (from imbalanced-learn->imblearn) (1.3.2)\n",
      "Collecting sklearn-compat<1,>=0.1 (from imbalanced-learn->imblearn)\n",
      "  Downloading sklearn_compat-0.1.3-py3-none-any.whl.metadata (18 kB)\n",
      "Requirement already satisfied: joblib<2,>=1.1.1 in c:\\users\\91914\\appdata\\local\\programs\\python\\python312\\lib\\site-packages (from imbalanced-learn->imblearn) (1.4.0)\n",
      "Requirement already satisfied: threadpoolctl<4,>=2.0.0 in c:\\users\\91914\\appdata\\local\\programs\\python\\python312\\lib\\site-packages (from imbalanced-learn->imblearn) (3.5.0)\n",
      "Downloading imblearn-0.0-py2.py3-none-any.whl (1.9 kB)\n",
      "Downloading imbalanced_learn-0.13.0-py3-none-any.whl (238 kB)\n",
      "Downloading sklearn_compat-0.1.3-py3-none-any.whl (18 kB)\n",
      "Installing collected packages: sklearn-compat, imbalanced-learn, imblearn\n",
      "Successfully installed imbalanced-learn-0.13.0 imblearn-0.0 sklearn-compat-0.1.3\n"
     ]
    },
    {
     "name": "stderr",
     "output_type": "stream",
     "text": [
      "\n",
      "[notice] A new release of pip is available: 24.3.1 -> 25.0.1\n",
      "[notice] To update, run: python.exe -m pip install --upgrade pip\n"
     ]
    }
   ],
   "source": [
    "!pip install imblearn"
   ]
  },
  {
   "cell_type": "code",
   "execution_count": 2,
   "id": "29d85c8e-fc0a-4527-b002-b3d32cf6651d",
   "metadata": {},
   "outputs": [],
   "source": [
    "#libraries\n",
    "import numpy as np \n",
    "import pandas as pd\n",
    "import matplotlib.pyplot as plt\n",
    "import seaborn as sns\n",
    "import xgboost as xgb\n",
    "\n",
    "%matplotlib inline\n",
    "sns.set()\n",
    "#preprocess\n",
    "from sklearn.model_selection import train_test_split, RandomizedSearchCV, GridSearchCV\n",
    "from sklearn.preprocessing import MinMaxScaler, StandardScaler, LabelEncoder\n",
    "from imblearn.over_sampling import SMOTE\n",
    "#models\n",
    "from sklearn.svm import SVC\n",
    "from sklearn import metrics\n",
    "from xgboost import XGBClassifier\n",
    "from sklearn.model_selection import train_test_split, KFold, cross_val_score\n",
    "from scipy.stats import randint as sp_randint\n",
    "from sklearn.ensemble import BaggingClassifier,VotingClassifier, AdaBoostClassifier, StackingClassifier, RandomForestClassifier,ExtraTreesClassifier\n",
    "from sklearn.neighbors import KNeighborsClassifier\n",
    "from sklearn.tree import DecisionTreeClassifier\n",
    "from scipy.stats import randint\n",
    "#from catboost import CatBoostClassifier\n",
    "from sklearn.linear_model import LogisticRegression\n",
    "from sklearn.datasets import make_classification\n",
    "from imblearn.over_sampling import RandomOverSampler\n",
    "#check\n",
    "from sklearn.metrics import confusion_matrix, classification_report, accuracy_score, f1_score, recall_score, precision_score\n",
    "#save\n",
    "import pickle as pk"
   ]
  },
  {
   "cell_type": "code",
   "execution_count": 3,
   "id": "4a0c5246-07be-4f9f-a558-c093344c5527",
   "metadata": {},
   "outputs": [],
   "source": [
    "import warnings\n",
    "warnings.filterwarnings('ignore')"
   ]
  },
  {
   "cell_type": "code",
   "execution_count": 4,
   "id": "8bdcd910-1276-4563-9125-fc28aa9a89be",
   "metadata": {},
   "outputs": [],
   "source": [
    "df = pd.read_csv('Model2_lifestyle/heart_cleaned.csv')"
   ]
  },
  {
   "cell_type": "code",
   "execution_count": 5,
   "id": "ca3a3e81-9225-4f26-8409-008e4768e709",
   "metadata": {},
   "outputs": [
    {
     "data": {
      "text/html": [
       "<div>\n",
       "<style scoped>\n",
       "    .dataframe tbody tr th:only-of-type {\n",
       "        vertical-align: middle;\n",
       "    }\n",
       "\n",
       "    .dataframe tbody tr th {\n",
       "        vertical-align: top;\n",
       "    }\n",
       "\n",
       "    .dataframe thead th {\n",
       "        text-align: right;\n",
       "    }\n",
       "</style>\n",
       "<table border=\"1\" class=\"dataframe\">\n",
       "  <thead>\n",
       "    <tr style=\"text-align: right;\">\n",
       "      <th></th>\n",
       "      <th>HeartDisease</th>\n",
       "      <th>BMI</th>\n",
       "      <th>Smoking</th>\n",
       "      <th>AlcoholDrinking</th>\n",
       "      <th>Stroke</th>\n",
       "      <th>PhysicalHealth</th>\n",
       "      <th>MentalHealth</th>\n",
       "      <th>DiffWalking</th>\n",
       "      <th>Sex</th>\n",
       "      <th>AgeCategory</th>\n",
       "      <th>Race</th>\n",
       "      <th>Diabetic</th>\n",
       "      <th>PhysicalActivity</th>\n",
       "      <th>GenHealth</th>\n",
       "      <th>SleepTime</th>\n",
       "      <th>Asthma</th>\n",
       "      <th>KidneyDisease</th>\n",
       "      <th>SkinCancer</th>\n",
       "    </tr>\n",
       "  </thead>\n",
       "  <tbody>\n",
       "    <tr>\n",
       "      <th>0</th>\n",
       "      <td>No</td>\n",
       "      <td>16.60</td>\n",
       "      <td>Yes</td>\n",
       "      <td>No</td>\n",
       "      <td>No</td>\n",
       "      <td>3.0</td>\n",
       "      <td>30.0</td>\n",
       "      <td>No</td>\n",
       "      <td>Female</td>\n",
       "      <td>55-59</td>\n",
       "      <td>White</td>\n",
       "      <td>Yes</td>\n",
       "      <td>Yes</td>\n",
       "      <td>Very good</td>\n",
       "      <td>5.0</td>\n",
       "      <td>Yes</td>\n",
       "      <td>No</td>\n",
       "      <td>Yes</td>\n",
       "    </tr>\n",
       "    <tr>\n",
       "      <th>1</th>\n",
       "      <td>No</td>\n",
       "      <td>20.34</td>\n",
       "      <td>No</td>\n",
       "      <td>No</td>\n",
       "      <td>Yes</td>\n",
       "      <td>0.0</td>\n",
       "      <td>0.0</td>\n",
       "      <td>No</td>\n",
       "      <td>Female</td>\n",
       "      <td>80 or older</td>\n",
       "      <td>White</td>\n",
       "      <td>No</td>\n",
       "      <td>Yes</td>\n",
       "      <td>Very good</td>\n",
       "      <td>7.0</td>\n",
       "      <td>No</td>\n",
       "      <td>No</td>\n",
       "      <td>No</td>\n",
       "    </tr>\n",
       "    <tr>\n",
       "      <th>2</th>\n",
       "      <td>No</td>\n",
       "      <td>26.58</td>\n",
       "      <td>Yes</td>\n",
       "      <td>No</td>\n",
       "      <td>No</td>\n",
       "      <td>20.0</td>\n",
       "      <td>30.0</td>\n",
       "      <td>No</td>\n",
       "      <td>Male</td>\n",
       "      <td>65-69</td>\n",
       "      <td>White</td>\n",
       "      <td>Yes</td>\n",
       "      <td>Yes</td>\n",
       "      <td>Fair</td>\n",
       "      <td>8.0</td>\n",
       "      <td>Yes</td>\n",
       "      <td>No</td>\n",
       "      <td>No</td>\n",
       "    </tr>\n",
       "    <tr>\n",
       "      <th>3</th>\n",
       "      <td>No</td>\n",
       "      <td>24.21</td>\n",
       "      <td>No</td>\n",
       "      <td>No</td>\n",
       "      <td>No</td>\n",
       "      <td>0.0</td>\n",
       "      <td>0.0</td>\n",
       "      <td>No</td>\n",
       "      <td>Female</td>\n",
       "      <td>75-79</td>\n",
       "      <td>White</td>\n",
       "      <td>No</td>\n",
       "      <td>No</td>\n",
       "      <td>Good</td>\n",
       "      <td>6.0</td>\n",
       "      <td>No</td>\n",
       "      <td>No</td>\n",
       "      <td>Yes</td>\n",
       "    </tr>\n",
       "    <tr>\n",
       "      <th>4</th>\n",
       "      <td>No</td>\n",
       "      <td>23.71</td>\n",
       "      <td>No</td>\n",
       "      <td>No</td>\n",
       "      <td>No</td>\n",
       "      <td>28.0</td>\n",
       "      <td>0.0</td>\n",
       "      <td>Yes</td>\n",
       "      <td>Female</td>\n",
       "      <td>40-44</td>\n",
       "      <td>White</td>\n",
       "      <td>No</td>\n",
       "      <td>Yes</td>\n",
       "      <td>Very good</td>\n",
       "      <td>8.0</td>\n",
       "      <td>No</td>\n",
       "      <td>No</td>\n",
       "      <td>No</td>\n",
       "    </tr>\n",
       "  </tbody>\n",
       "</table>\n",
       "</div>"
      ],
      "text/plain": [
       "  HeartDisease    BMI Smoking AlcoholDrinking Stroke  PhysicalHealth  \\\n",
       "0           No  16.60     Yes              No     No             3.0   \n",
       "1           No  20.34      No              No    Yes             0.0   \n",
       "2           No  26.58     Yes              No     No            20.0   \n",
       "3           No  24.21      No              No     No             0.0   \n",
       "4           No  23.71      No              No     No            28.0   \n",
       "\n",
       "   MentalHealth DiffWalking     Sex  AgeCategory   Race Diabetic  \\\n",
       "0          30.0          No  Female        55-59  White      Yes   \n",
       "1           0.0          No  Female  80 or older  White       No   \n",
       "2          30.0          No    Male        65-69  White      Yes   \n",
       "3           0.0          No  Female        75-79  White       No   \n",
       "4           0.0         Yes  Female        40-44  White       No   \n",
       "\n",
       "  PhysicalActivity  GenHealth  SleepTime Asthma KidneyDisease SkinCancer  \n",
       "0              Yes  Very good        5.0    Yes            No        Yes  \n",
       "1              Yes  Very good        7.0     No            No         No  \n",
       "2              Yes       Fair        8.0    Yes            No         No  \n",
       "3               No       Good        6.0     No            No        Yes  \n",
       "4              Yes  Very good        8.0     No            No         No  "
      ]
     },
     "execution_count": 5,
     "metadata": {},
     "output_type": "execute_result"
    }
   ],
   "source": [
    "df.head()"
   ]
  },
  {
   "cell_type": "code",
   "execution_count": 6,
   "id": "9ccb81f6-26a0-43d8-ac9e-315f6f877304",
   "metadata": {},
   "outputs": [
    {
     "data": {
      "text/html": [
       "<div>\n",
       "<style scoped>\n",
       "    .dataframe tbody tr th:only-of-type {\n",
       "        vertical-align: middle;\n",
       "    }\n",
       "\n",
       "    .dataframe tbody tr th {\n",
       "        vertical-align: top;\n",
       "    }\n",
       "\n",
       "    .dataframe thead th {\n",
       "        text-align: right;\n",
       "    }\n",
       "</style>\n",
       "<table border=\"1\" class=\"dataframe\">\n",
       "  <thead>\n",
       "    <tr style=\"text-align: right;\">\n",
       "      <th></th>\n",
       "      <th>HeartDisease</th>\n",
       "      <th>BMI</th>\n",
       "      <th>Smoking</th>\n",
       "      <th>AlcoholDrinking</th>\n",
       "      <th>Stroke</th>\n",
       "      <th>PhysicalHealth</th>\n",
       "      <th>MentalHealth</th>\n",
       "      <th>DiffWalking</th>\n",
       "      <th>Sex</th>\n",
       "      <th>AgeCategory</th>\n",
       "      <th>Race</th>\n",
       "      <th>Diabetic</th>\n",
       "      <th>PhysicalActivity</th>\n",
       "      <th>GenHealth</th>\n",
       "      <th>SleepTime</th>\n",
       "      <th>Asthma</th>\n",
       "      <th>KidneyDisease</th>\n",
       "      <th>SkinCancer</th>\n",
       "    </tr>\n",
       "  </thead>\n",
       "  <tbody>\n",
       "    <tr>\n",
       "      <th>319790</th>\n",
       "      <td>Yes</td>\n",
       "      <td>27.41</td>\n",
       "      <td>Yes</td>\n",
       "      <td>No</td>\n",
       "      <td>No</td>\n",
       "      <td>7.0</td>\n",
       "      <td>0.0</td>\n",
       "      <td>Yes</td>\n",
       "      <td>Male</td>\n",
       "      <td>60-64</td>\n",
       "      <td>Hispanic</td>\n",
       "      <td>Yes</td>\n",
       "      <td>No</td>\n",
       "      <td>Fair</td>\n",
       "      <td>6.0</td>\n",
       "      <td>Yes</td>\n",
       "      <td>No</td>\n",
       "      <td>No</td>\n",
       "    </tr>\n",
       "    <tr>\n",
       "      <th>319791</th>\n",
       "      <td>No</td>\n",
       "      <td>29.84</td>\n",
       "      <td>Yes</td>\n",
       "      <td>No</td>\n",
       "      <td>No</td>\n",
       "      <td>0.0</td>\n",
       "      <td>0.0</td>\n",
       "      <td>No</td>\n",
       "      <td>Male</td>\n",
       "      <td>35-39</td>\n",
       "      <td>Hispanic</td>\n",
       "      <td>No</td>\n",
       "      <td>Yes</td>\n",
       "      <td>Very good</td>\n",
       "      <td>5.0</td>\n",
       "      <td>Yes</td>\n",
       "      <td>No</td>\n",
       "      <td>No</td>\n",
       "    </tr>\n",
       "    <tr>\n",
       "      <th>319792</th>\n",
       "      <td>No</td>\n",
       "      <td>24.24</td>\n",
       "      <td>No</td>\n",
       "      <td>No</td>\n",
       "      <td>No</td>\n",
       "      <td>0.0</td>\n",
       "      <td>0.0</td>\n",
       "      <td>No</td>\n",
       "      <td>Female</td>\n",
       "      <td>45-49</td>\n",
       "      <td>Hispanic</td>\n",
       "      <td>No</td>\n",
       "      <td>Yes</td>\n",
       "      <td>Good</td>\n",
       "      <td>6.0</td>\n",
       "      <td>No</td>\n",
       "      <td>No</td>\n",
       "      <td>No</td>\n",
       "    </tr>\n",
       "    <tr>\n",
       "      <th>319793</th>\n",
       "      <td>No</td>\n",
       "      <td>32.81</td>\n",
       "      <td>No</td>\n",
       "      <td>No</td>\n",
       "      <td>No</td>\n",
       "      <td>0.0</td>\n",
       "      <td>0.0</td>\n",
       "      <td>No</td>\n",
       "      <td>Female</td>\n",
       "      <td>25-29</td>\n",
       "      <td>Hispanic</td>\n",
       "      <td>No</td>\n",
       "      <td>No</td>\n",
       "      <td>Good</td>\n",
       "      <td>12.0</td>\n",
       "      <td>No</td>\n",
       "      <td>No</td>\n",
       "      <td>No</td>\n",
       "    </tr>\n",
       "    <tr>\n",
       "      <th>319794</th>\n",
       "      <td>No</td>\n",
       "      <td>46.56</td>\n",
       "      <td>No</td>\n",
       "      <td>No</td>\n",
       "      <td>No</td>\n",
       "      <td>0.0</td>\n",
       "      <td>0.0</td>\n",
       "      <td>No</td>\n",
       "      <td>Female</td>\n",
       "      <td>80 or older</td>\n",
       "      <td>Hispanic</td>\n",
       "      <td>No</td>\n",
       "      <td>Yes</td>\n",
       "      <td>Good</td>\n",
       "      <td>8.0</td>\n",
       "      <td>No</td>\n",
       "      <td>No</td>\n",
       "      <td>No</td>\n",
       "    </tr>\n",
       "  </tbody>\n",
       "</table>\n",
       "</div>"
      ],
      "text/plain": [
       "       HeartDisease    BMI Smoking AlcoholDrinking Stroke  PhysicalHealth  \\\n",
       "319790          Yes  27.41     Yes              No     No             7.0   \n",
       "319791           No  29.84     Yes              No     No             0.0   \n",
       "319792           No  24.24      No              No     No             0.0   \n",
       "319793           No  32.81      No              No     No             0.0   \n",
       "319794           No  46.56      No              No     No             0.0   \n",
       "\n",
       "        MentalHealth DiffWalking     Sex  AgeCategory      Race Diabetic  \\\n",
       "319790           0.0         Yes    Male        60-64  Hispanic      Yes   \n",
       "319791           0.0          No    Male        35-39  Hispanic       No   \n",
       "319792           0.0          No  Female        45-49  Hispanic       No   \n",
       "319793           0.0          No  Female        25-29  Hispanic       No   \n",
       "319794           0.0          No  Female  80 or older  Hispanic       No   \n",
       "\n",
       "       PhysicalActivity  GenHealth  SleepTime Asthma KidneyDisease SkinCancer  \n",
       "319790               No       Fair        6.0    Yes            No         No  \n",
       "319791              Yes  Very good        5.0    Yes            No         No  \n",
       "319792              Yes       Good        6.0     No            No         No  \n",
       "319793               No       Good       12.0     No            No         No  \n",
       "319794              Yes       Good        8.0     No            No         No  "
      ]
     },
     "execution_count": 6,
     "metadata": {},
     "output_type": "execute_result"
    }
   ],
   "source": [
    "df.tail()"
   ]
  },
  {
   "cell_type": "code",
   "execution_count": 7,
   "id": "cc872442-3e41-44b8-9135-22035f8c1950",
   "metadata": {},
   "outputs": [
    {
     "data": {
      "text/plain": [
       "(319795, 18)"
      ]
     },
     "execution_count": 7,
     "metadata": {},
     "output_type": "execute_result"
    }
   ],
   "source": [
    "df.shape"
   ]
  },
  {
   "cell_type": "markdown",
   "id": "7808fd9b-e853-493a-a7c3-90bd8519f47c",
   "metadata": {},
   "source": [
    "## data exploration"
   ]
  },
  {
   "cell_type": "code",
   "execution_count": 8,
   "id": "3289d0da-cf7a-48a5-9f20-04da66eff2bd",
   "metadata": {},
   "outputs": [
    {
     "name": "stdout",
     "output_type": "stream",
     "text": [
      "<class 'pandas.core.frame.DataFrame'>\n",
      "RangeIndex: 319795 entries, 0 to 319794\n",
      "Data columns (total 18 columns):\n",
      " #   Column            Non-Null Count   Dtype  \n",
      "---  ------            --------------   -----  \n",
      " 0   HeartDisease      319795 non-null  object \n",
      " 1   BMI               319795 non-null  float64\n",
      " 2   Smoking           319795 non-null  object \n",
      " 3   AlcoholDrinking   319795 non-null  object \n",
      " 4   Stroke            319795 non-null  object \n",
      " 5   PhysicalHealth    319795 non-null  float64\n",
      " 6   MentalHealth      319795 non-null  float64\n",
      " 7   DiffWalking       319795 non-null  object \n",
      " 8   Sex               319795 non-null  object \n",
      " 9   AgeCategory       319795 non-null  object \n",
      " 10  Race              319795 non-null  object \n",
      " 11  Diabetic          319795 non-null  object \n",
      " 12  PhysicalActivity  319795 non-null  object \n",
      " 13  GenHealth         319795 non-null  object \n",
      " 14  SleepTime         319795 non-null  float64\n",
      " 15  Asthma            319795 non-null  object \n",
      " 16  KidneyDisease     319795 non-null  object \n",
      " 17  SkinCancer        319795 non-null  object \n",
      "dtypes: float64(4), object(14)\n",
      "memory usage: 43.9+ MB\n"
     ]
    }
   ],
   "source": [
    "df.info()"
   ]
  },
  {
   "cell_type": "code",
   "execution_count": 9,
   "id": "38469e67-d31e-4b41-b48d-4c97e7ec53d6",
   "metadata": {},
   "outputs": [
    {
     "data": {
      "text/plain": [
       "HeartDisease        0\n",
       "BMI                 0\n",
       "Smoking             0\n",
       "AlcoholDrinking     0\n",
       "Stroke              0\n",
       "PhysicalHealth      0\n",
       "MentalHealth        0\n",
       "DiffWalking         0\n",
       "Sex                 0\n",
       "AgeCategory         0\n",
       "Race                0\n",
       "Diabetic            0\n",
       "PhysicalActivity    0\n",
       "GenHealth           0\n",
       "SleepTime           0\n",
       "Asthma              0\n",
       "KidneyDisease       0\n",
       "SkinCancer          0\n",
       "dtype: int64"
      ]
     },
     "execution_count": 9,
     "metadata": {},
     "output_type": "execute_result"
    }
   ],
   "source": [
    "df.isna().sum()"
   ]
  },
  {
   "cell_type": "code",
   "execution_count": 10,
   "id": "43855f18-4039-4028-ac49-f48a46bb39a6",
   "metadata": {},
   "outputs": [
    {
     "data": {
      "text/plain": [
       "False"
      ]
     },
     "execution_count": 10,
     "metadata": {},
     "output_type": "execute_result"
    }
   ],
   "source": [
    "#all rows control for null values\n",
    "df.isna().values.any()"
   ]
  },
  {
   "cell_type": "code",
   "execution_count": 11,
   "id": "0ff5ffea-eb61-4f60-9bf8-86dbc4a4edff",
   "metadata": {},
   "outputs": [
    {
     "data": {
      "text/plain": [
       "HeartDisease\n",
       "No     292422\n",
       "Yes     27373\n",
       "Name: count, dtype: int64"
      ]
     },
     "execution_count": 11,
     "metadata": {},
     "output_type": "execute_result"
    }
   ],
   "source": [
    "df['HeartDisease'].value_counts()"
   ]
  },
  {
   "cell_type": "markdown",
   "id": "c4577a4f-04ff-4a60-a670-34bdc4a11b93",
   "metadata": {},
   "source": [
    "#### removing duplicate values"
   ]
  },
  {
   "cell_type": "code",
   "execution_count": 12,
   "id": "603c5c4d-45fa-46e8-8750-bc65cdd7027d",
   "metadata": {},
   "outputs": [
    {
     "data": {
      "text/plain": [
       "18078"
      ]
     },
     "execution_count": 12,
     "metadata": {},
     "output_type": "execute_result"
    }
   ],
   "source": [
    "df.duplicated().sum()"
   ]
  },
  {
   "cell_type": "code",
   "execution_count": 13,
   "id": "989f5a43-8a68-4818-b287-b9b0e1cf9210",
   "metadata": {},
   "outputs": [],
   "source": [
    "#drop duplicates\n",
    "df.drop_duplicates(inplace=True)"
   ]
  },
  {
   "cell_type": "code",
   "execution_count": 14,
   "id": "a3abaf68-aa82-4936-bbd0-4f30be30b0af",
   "metadata": {},
   "outputs": [
    {
     "data": {
      "text/plain": [
       "HeartDisease\n",
       "No     274456\n",
       "Yes     27261\n",
       "Name: count, dtype: int64"
      ]
     },
     "execution_count": 14,
     "metadata": {},
     "output_type": "execute_result"
    }
   ],
   "source": [
    "df['HeartDisease'].value_counts()"
   ]
  },
  {
   "cell_type": "code",
   "execution_count": 15,
   "id": "9a44ccf2-0cc8-431e-a33d-8dd45f8767bc",
   "metadata": {},
   "outputs": [
    {
     "data": {
      "text/plain": [
       "(301717, 18)"
      ]
     },
     "execution_count": 15,
     "metadata": {},
     "output_type": "execute_result"
    }
   ],
   "source": [
    "df.shape"
   ]
  },
  {
   "cell_type": "markdown",
   "id": "6fd96e37-8d49-42ad-a705-68fc54c18053",
   "metadata": {},
   "source": [
    "#### Data Analysis & Visualization using Seaborn Library, pyplot"
   ]
  },
  {
   "cell_type": "code",
   "execution_count": 16,
   "id": "a40cfb13-48df-496b-aaed-0ee081f920d1",
   "metadata": {},
   "outputs": [
    {
     "data": {
      "text/plain": [
       "<function matplotlib.pyplot.show(close=None, block=None)>"
      ]
     },
     "execution_count": 16,
     "metadata": {},
     "output_type": "execute_result"
    },
    {
     "data": {
      "image/png": "[encoded data removed]",
      "text/plain": [
       "<Figure size 640x480 with 1 Axes>"
      ]
     },
     "metadata": {},
     "output_type": "display_data"
    }
   ],
   "source": [
    "#show Ratio of HeartDisease from data\n",
    "plt.pie(x = df['HeartDisease'].value_counts() ,autopct='%1.2f%%' ,labels=df['HeartDisease'].value_counts().index)\n",
    "plt.title('the Ratio of Heart Disease')\n",
    "plt.show"
   ]
  },
  {
   "cell_type": "code",
   "execution_count": 17,
   "id": "3e6bb50b-1117-40a1-a411-1a45c1257f4f",
   "metadata": {},
   "outputs": [
    {
     "data": {
      "image/png": "[encoded data removed]",
      "text/plain": [
       "<Figure size 640x480 with 1 Axes>"
      ]
     },
     "metadata": {},
     "output_type": "display_data"
    }
   ],
   "source": [
    "#show how many of Male and female \n",
    "sns.countplot(x = df['Sex'], palette='GnBu_d')\n",
    "plt.show()"
   ]
  },
  {
   "cell_type": "code",
   "execution_count": 18,
   "id": "21c47b9c-1f53-4f0d-903f-e3bce01b0623",
   "metadata": {},
   "outputs": [
    {
     "data": {
      "text/plain": [
       "Sex     HeartDisease\n",
       "Female  No              148458\n",
       "        Yes              11213\n",
       "Male    No              125998\n",
       "        Yes              16048\n",
       "Name: HeartDisease, dtype: int64"
      ]
     },
     "execution_count": 18,
     "metadata": {},
     "output_type": "execute_result"
    }
   ],
   "source": [
    "df.groupby(['Sex','HeartDisease'])['HeartDisease'].count()"
   ]
  },
  {
   "cell_type": "code",
   "execution_count": 19,
   "id": "f86f0157-0307-4243-aca0-1fa43693b7b9",
   "metadata": {},
   "outputs": [
    {
     "data": {
      "image/png": "[encoded data removed]",
      "text/plain": [
       "<Figure size 1000x500 with 1 Axes>"
      ]
     },
     "metadata": {},
     "output_type": "display_data"
    }
   ],
   "source": [
    "#show Heart Disease Frequency for Sex\n",
    "plt.figure(figsize=(10,5))\n",
    "sns.countplot(x = df['Sex'], data=df, hue='HeartDisease',palette=\"winter\")\n",
    "plt.title('Heart Disease Frequency for Sex')\n",
    "plt.xlabel('Sex')\n",
    "plt.legend([\"Haven't Disease\", \"Have Disease\"])\n",
    "plt.ylabel('Frequency')\n",
    "plt.show()"
   ]
  },
  {
   "cell_type": "code",
   "execution_count": 20,
   "id": "9d9ad256-c2f2-435d-853d-07fc70d46811",
   "metadata": {},
   "outputs": [
    {
     "data": {
      "text/plain": [
       "AgeCategory\n",
       "65-69          31670\n",
       "60-64          31219\n",
       "70-74          29273\n",
       "55-59          27610\n",
       "50-54          23736\n",
       "80 or older    23352\n",
       "75-79          20713\n",
       "45-49          20518\n",
       "18-24          19998\n",
       "40-44          19837\n",
       "35-39          19526\n",
       "30-34          17953\n",
       "25-29          16312\n",
       "Name: count, dtype: int64"
      ]
     },
     "execution_count": 20,
     "metadata": {},
     "output_type": "execute_result"
    }
   ],
   "source": [
    "#AgeCategory frequency\n",
    "df['AgeCategory'].value_counts()"
   ]
  },
  {
   "cell_type": "code",
   "execution_count": 21,
   "id": "e6de3e6d-773e-4345-94a3-3bf86ab94794",
   "metadata": {},
   "outputs": [
    {
     "data": {
      "text/plain": [
       "AgeCategory  HeartDisease\n",
       "18-24        No              19868\n",
       "             Yes               130\n",
       "25-29        No              16179\n",
       "             Yes               133\n",
       "30-34        No              17727\n",
       "             Yes               226\n",
       "35-39        No              19230\n",
       "             Yes               296\n",
       "40-44        No              19351\n",
       "             Yes               486\n",
       "45-49        No              19775\n",
       "             Yes               743\n",
       "50-54        No              22353\n",
       "             Yes              1383\n",
       "55-59        No              25411\n",
       "             Yes              2199\n",
       "60-64        No              27898\n",
       "             Yes              3321\n",
       "65-69        No              27596\n",
       "             Yes              4074\n",
       "70-74        No              24456\n",
       "             Yes              4817\n",
       "75-79        No              16686\n",
       "             Yes              4027\n",
       "80 or older  No              17926\n",
       "             Yes              5426\n",
       "Name: HeartDisease, dtype: int64"
      ]
     },
     "execution_count": 21,
     "metadata": {},
     "output_type": "execute_result"
    }
   ],
   "source": [
    "df.groupby(['AgeCategory','HeartDisease'])['HeartDisease'].count()"
   ]
  },
  {
   "cell_type": "code",
   "execution_count": 22,
   "id": "4ff7e169-ef1e-4e6e-9789-975105f6330e",
   "metadata": {},
   "outputs": [
    {
     "data": {
      "image/png": "[encoded data removed]",
      "text/plain": [
       "<Figure size 1400x700 with 1 Axes>"
      ]
     },
     "metadata": {},
     "output_type": "display_data"
    }
   ],
   "source": [
    "#show Heart Disease Frequency for AgeCategory\n",
    "plt.figure(figsize=(14,7))\n",
    "sns.countplot(x='AgeCategory', data=df, hue='HeartDisease',palette=\"winter\")\n",
    "plt.title('Heart Disease Frequency for AgeCategory')\n",
    "plt.xlabel('AgeCategory')\n",
    "plt.legend([\"Haven't Disease\", \"Have Disease\"])\n",
    "plt.ylabel('Frequency')\n",
    "plt.show()"
   ]
  },
  {
   "cell_type": "code",
   "execution_count": 23,
   "id": "be61b6c6-42a8-4041-a2c1-5d437f5bc685",
   "metadata": {},
   "outputs": [
    {
     "data": {
      "text/plain": [
       "Smoking\n",
       "No     174312\n",
       "Yes    127405\n",
       "Name: count, dtype: int64"
      ]
     },
     "execution_count": 23,
     "metadata": {},
     "output_type": "execute_result"
    }
   ],
   "source": [
    "#the count of people Smoking\n",
    "df['Smoking'].value_counts()"
   ]
  },
  {
   "cell_type": "code",
   "execution_count": 24,
   "id": "c0de9d72-e921-4cdd-b36b-bc4531298cdb",
   "metadata": {},
   "outputs": [
    {
     "data": {
      "text/plain": [
       "Sex     AgeCategory  Smoking  HeartDisease\n",
       "Female  18-24        No       No              7963\n",
       "                              Yes               40\n",
       "                     Yes      No              1132\n",
       "                              Yes               10\n",
       "        25-29        No       No              5746\n",
       "                                              ... \n",
       "Male    75-79        Yes      Yes             1552\n",
       "        80 or older  No       No              2905\n",
       "                              Yes             1086\n",
       "                     Yes      No              3512\n",
       "                              Yes             1724\n",
       "Name: HeartDisease, Length: 104, dtype: int64"
      ]
     },
     "execution_count": 24,
     "metadata": {},
     "output_type": "execute_result"
    }
   ],
   "source": [
    "df.groupby(['Sex','AgeCategory','Smoking','HeartDisease'])['HeartDisease'].count()"
   ]
  },
  {
   "cell_type": "code",
   "execution_count": 25,
   "id": "ac2f32a3-b98d-41b9-9220-1d51c3ef8917",
   "metadata": {},
   "outputs": [
    {
     "data": {
      "image/png": "[encoded data removed]",
      "text/plain": [
       "<Figure size 1000x500 with 1 Axes>"
      ]
     },
     "metadata": {},
     "output_type": "display_data"
    }
   ],
   "source": [
    "#show Heart Disease Frequency for Smoking\n",
    "plt.figure(figsize=(10,5))\n",
    "sns.countplot(x='Smoking',data=df,hue='HeartDisease',palette='winter')\n",
    "plt.title('Heart Disease of Smoking people')\n",
    "plt.legend([\"Haven't Disease\", \"Have Disease\"])\n",
    "plt.xlabel('Smoking')\n",
    "plt.show()"
   ]
  },
  {
   "cell_type": "code",
   "execution_count": 26,
   "id": "d2afe1b7-7132-45c4-ab79-1f5215c9ac07",
   "metadata": {},
   "outputs": [
    {
     "data": {
      "text/plain": [
       "AlcoholDrinking\n",
       "No     280136\n",
       "Yes     21581\n",
       "Name: count, dtype: int64"
      ]
     },
     "execution_count": 26,
     "metadata": {},
     "output_type": "execute_result"
    }
   ],
   "source": [
    "# I want to Know how many people drink the AlcoholDrinking or not \n",
    "df['AlcoholDrinking'].value_counts()"
   ]
  },
  {
   "cell_type": "code",
   "execution_count": 27,
   "id": "efa9c47a-0b85-42ce-a769-c5111b96e2ed",
   "metadata": {},
   "outputs": [
    {
     "data": {
      "image/png": "[encoded data removed]",
      "text/plain": [
       "<Figure size 1000x600 with 1 Axes>"
      ]
     },
     "metadata": {},
     "output_type": "display_data"
    }
   ],
   "source": [
    "#Show how many people drink the AlcoholDrinking or not \n",
    "plt.figure(figsize=(10,6))\n",
    "sns.countplot(x=df['AlcoholDrinking'],data=df , hue='HeartDisease',palette='winter')\n",
    "plt.title('people drinking the AlcoholDrinking')\n",
    "plt.legend([\"Haven't Disease\", \"Have Disease\"])\n",
    "plt.xlabel('AlcoholDrinking')\n",
    "plt.show()"
   ]
  },
  {
   "cell_type": "code",
   "execution_count": 28,
   "id": "d8c5aa41-bb9c-4ade-8bb3-7b11e346aa90",
   "metadata": {},
   "outputs": [
    {
     "data": {
      "text/plain": [
       "KidneyDisease\n",
       "No     289941\n",
       "Yes     11776\n",
       "Name: count, dtype: int64"
      ]
     },
     "execution_count": 28,
     "metadata": {},
     "output_type": "execute_result"
    }
   ],
   "source": [
    "#I want to know how many people have KidneyDisease\n",
    "df['KidneyDisease'].value_counts()"
   ]
  },
  {
   "cell_type": "code",
   "execution_count": 29,
   "id": "bc4b8e4f-ff97-4451-a595-15c8274512d3",
   "metadata": {},
   "outputs": [
    {
     "data": {
      "text/plain": [
       "KidneyDisease  HeartDisease\n",
       "No             No              266134\n",
       "               Yes              23807\n",
       "Yes            No                8322\n",
       "               Yes               3454\n",
       "Name: HeartDisease, dtype: int64"
      ]
     },
     "execution_count": 29,
     "metadata": {},
     "output_type": "execute_result"
    }
   ],
   "source": [
    "#show the peolple who have KidneyDisease and HeartDisease\n",
    "df.groupby(['KidneyDisease','HeartDisease'])['HeartDisease'].count()"
   ]
  },
  {
   "cell_type": "code",
   "execution_count": 30,
   "id": "67f3d37c-2b6a-41ea-bd7d-a995df460e54",
   "metadata": {},
   "outputs": [
    {
     "data": {
      "image/png": "[encoded data removed]",
      "text/plain": [
       "<Figure size 640x480 with 1 Axes>"
      ]
     },
     "metadata": {},
     "output_type": "display_data"
    }
   ],
   "source": [
    "sns.countplot( x = 'KidneyDisease', data=df, hue='HeartDisease',palette=['blue','green'])\n",
    "plt.title('people have KidneyDisease')\n",
    "plt.legend([\"Haven't Disease\", \"Have Disease\"])\n",
    "plt.show()"
   ]
  },
  {
   "cell_type": "code",
   "execution_count": 31,
   "id": "4adc31bc-06b6-4b85-8e58-709b2fa8df49",
   "metadata": {},
   "outputs": [
    {
     "data": {
      "text/plain": [
       "Sex     KidneyDisease\n",
       "Female  No               153218\n",
       "        Yes                6453\n",
       "Male    No               136723\n",
       "        Yes                5323\n",
       "Name: KidneyDisease, dtype: int64"
      ]
     },
     "execution_count": 31,
     "metadata": {},
     "output_type": "execute_result"
    }
   ],
   "source": [
    "df.groupby(['Sex','KidneyDisease'])['KidneyDisease'].count()"
   ]
  },
  {
   "cell_type": "code",
   "execution_count": 32,
   "id": "bab31764-53a7-495e-93cd-3341fd7a6a40",
   "metadata": {},
   "outputs": [
    {
     "data": {
      "text/plain": [
       "SkinCancer\n",
       "No     272425\n",
       "Yes     29292\n",
       "Name: count, dtype: int64"
      ]
     },
     "execution_count": 32,
     "metadata": {},
     "output_type": "execute_result"
    }
   ],
   "source": [
    "#Show the SkinCancer  \n",
    "df['SkinCancer'].value_counts()"
   ]
  },
  {
   "cell_type": "code",
   "execution_count": 33,
   "id": "354448d6-641d-43aa-82ea-a86a8f99c0f0",
   "metadata": {},
   "outputs": [
    {
     "data": {
      "text/plain": [
       "Sex     SkinCancer\n",
       "Female  No            144876\n",
       "        Yes            14795\n",
       "Male    No            127549\n",
       "        Yes            14497\n",
       "Name: SkinCancer, dtype: int64"
      ]
     },
     "execution_count": 33,
     "metadata": {},
     "output_type": "execute_result"
    }
   ],
   "source": [
    "#Show people have SkinCancer\n",
    "df.groupby(['Sex','SkinCancer'])['SkinCancer'].count()"
   ]
  },
  {
   "cell_type": "code",
   "execution_count": 34,
   "id": "522c9537-a19f-49b6-afc4-26230e2af1f3",
   "metadata": {},
   "outputs": [
    {
     "data": {
      "image/png": "[encoded data removed]",
      "text/plain": [
       "<Figure size 1000x500 with 1 Axes>"
      ]
     },
     "metadata": {},
     "output_type": "display_data"
    }
   ],
   "source": [
    "plt.figure(figsize=(10,5))\n",
    "sns.countplot(x='Sex',data=df, hue='SkinCancer',palette='winter')\n",
    "plt.title('people have SkinCancer')\n",
    "plt.show()"
   ]
  },
  {
   "cell_type": "code",
   "execution_count": 35,
   "id": "d0b3c244-f62d-4658-952b-968aa92e8dda",
   "metadata": {},
   "outputs": [
    {
     "data": {
      "text/plain": [
       "Sex     SkinCancer  HeartDisease\n",
       "Female  No          No              135339\n",
       "                    Yes               9537\n",
       "        Yes         No               13119\n",
       "                    Yes               1676\n",
       "Male    No          No              114793\n",
       "                    Yes              12756\n",
       "        Yes         No               11205\n",
       "                    Yes               3292\n",
       "Name: HeartDisease, dtype: int64"
      ]
     },
     "execution_count": 35,
     "metadata": {},
     "output_type": "execute_result"
    }
   ],
   "source": [
    "df.groupby(['Sex','SkinCancer','HeartDisease'])['HeartDisease'].count()"
   ]
  },
  {
   "cell_type": "code",
   "execution_count": 36,
   "id": "f6c5d881-f14e-4a54-a9c8-be4d2fd7d857",
   "metadata": {},
   "outputs": [
    {
     "data": {
      "image/png": "[encoded data removed]",
      "text/plain": [
       "<Figure size 640x480 with 1 Axes>"
      ]
     },
     "metadata": {},
     "output_type": "display_data"
    }
   ],
   "source": [
    "sns.countplot(x = 'SkinCancer', data=df , hue = 'HeartDisease')\n",
    "plt.title('people have SkinCancer and HeartDisease')\n",
    "plt.legend([\"Haven't Disease\", \"Have Disease\"])\n",
    "plt.show()"
   ]
  },
  {
   "cell_type": "markdown",
   "id": "3be18dab-109d-4b2e-ac04-05c507ec5244",
   "metadata": {},
   "source": [
    "#### Check the Distribution and skewness of the features"
   ]
  },
  {
   "cell_type": "code",
   "execution_count": 37,
   "id": "a7c26436-6e21-4883-8210-1dd05f914abe",
   "metadata": {},
   "outputs": [
    {
     "data": {
      "text/html": [
       "<div>\n",
       "<style scoped>\n",
       "    .dataframe tbody tr th:only-of-type {\n",
       "        vertical-align: middle;\n",
       "    }\n",
       "\n",
       "    .dataframe tbody tr th {\n",
       "        vertical-align: top;\n",
       "    }\n",
       "\n",
       "    .dataframe thead th {\n",
       "        text-align: right;\n",
       "    }\n",
       "</style>\n",
       "<table border=\"1\" class=\"dataframe\">\n",
       "  <thead>\n",
       "    <tr style=\"text-align: right;\">\n",
       "      <th></th>\n",
       "      <th>HeartDisease</th>\n",
       "      <th>BMI</th>\n",
       "      <th>Smoking</th>\n",
       "      <th>AlcoholDrinking</th>\n",
       "      <th>Stroke</th>\n",
       "      <th>PhysicalHealth</th>\n",
       "      <th>MentalHealth</th>\n",
       "      <th>DiffWalking</th>\n",
       "      <th>Sex</th>\n",
       "      <th>AgeCategory</th>\n",
       "      <th>Race</th>\n",
       "      <th>Diabetic</th>\n",
       "      <th>PhysicalActivity</th>\n",
       "      <th>GenHealth</th>\n",
       "      <th>SleepTime</th>\n",
       "      <th>Asthma</th>\n",
       "      <th>KidneyDisease</th>\n",
       "      <th>SkinCancer</th>\n",
       "    </tr>\n",
       "  </thead>\n",
       "  <tbody>\n",
       "    <tr>\n",
       "      <th>0</th>\n",
       "      <td>0</td>\n",
       "      <td>223</td>\n",
       "      <td>1</td>\n",
       "      <td>0</td>\n",
       "      <td>0</td>\n",
       "      <td>3</td>\n",
       "      <td>30</td>\n",
       "      <td>0</td>\n",
       "      <td>0</td>\n",
       "      <td>7</td>\n",
       "      <td>5</td>\n",
       "      <td>2</td>\n",
       "      <td>1</td>\n",
       "      <td>4</td>\n",
       "      <td>4</td>\n",
       "      <td>1</td>\n",
       "      <td>0</td>\n",
       "      <td>1</td>\n",
       "    </tr>\n",
       "    <tr>\n",
       "      <th>1</th>\n",
       "      <td>0</td>\n",
       "      <td>524</td>\n",
       "      <td>0</td>\n",
       "      <td>0</td>\n",
       "      <td>1</td>\n",
       "      <td>0</td>\n",
       "      <td>0</td>\n",
       "      <td>0</td>\n",
       "      <td>0</td>\n",
       "      <td>12</td>\n",
       "      <td>5</td>\n",
       "      <td>0</td>\n",
       "      <td>1</td>\n",
       "      <td>4</td>\n",
       "      <td>6</td>\n",
       "      <td>0</td>\n",
       "      <td>0</td>\n",
       "      <td>0</td>\n",
       "    </tr>\n",
       "    <tr>\n",
       "      <th>2</th>\n",
       "      <td>0</td>\n",
       "      <td>1103</td>\n",
       "      <td>1</td>\n",
       "      <td>0</td>\n",
       "      <td>0</td>\n",
       "      <td>20</td>\n",
       "      <td>30</td>\n",
       "      <td>0</td>\n",
       "      <td>1</td>\n",
       "      <td>9</td>\n",
       "      <td>5</td>\n",
       "      <td>2</td>\n",
       "      <td>1</td>\n",
       "      <td>1</td>\n",
       "      <td>7</td>\n",
       "      <td>1</td>\n",
       "      <td>0</td>\n",
       "      <td>0</td>\n",
       "    </tr>\n",
       "    <tr>\n",
       "      <th>3</th>\n",
       "      <td>0</td>\n",
       "      <td>883</td>\n",
       "      <td>0</td>\n",
       "      <td>0</td>\n",
       "      <td>0</td>\n",
       "      <td>0</td>\n",
       "      <td>0</td>\n",
       "      <td>0</td>\n",
       "      <td>0</td>\n",
       "      <td>11</td>\n",
       "      <td>5</td>\n",
       "      <td>0</td>\n",
       "      <td>0</td>\n",
       "      <td>2</td>\n",
       "      <td>5</td>\n",
       "      <td>0</td>\n",
       "      <td>0</td>\n",
       "      <td>1</td>\n",
       "    </tr>\n",
       "    <tr>\n",
       "      <th>4</th>\n",
       "      <td>0</td>\n",
       "      <td>837</td>\n",
       "      <td>0</td>\n",
       "      <td>0</td>\n",
       "      <td>0</td>\n",
       "      <td>28</td>\n",
       "      <td>0</td>\n",
       "      <td>1</td>\n",
       "      <td>0</td>\n",
       "      <td>4</td>\n",
       "      <td>5</td>\n",
       "      <td>0</td>\n",
       "      <td>1</td>\n",
       "      <td>4</td>\n",
       "      <td>7</td>\n",
       "      <td>0</td>\n",
       "      <td>0</td>\n",
       "      <td>0</td>\n",
       "    </tr>\n",
       "    <tr>\n",
       "      <th>...</th>\n",
       "      <td>...</td>\n",
       "      <td>...</td>\n",
       "      <td>...</td>\n",
       "      <td>...</td>\n",
       "      <td>...</td>\n",
       "      <td>...</td>\n",
       "      <td>...</td>\n",
       "      <td>...</td>\n",
       "      <td>...</td>\n",
       "      <td>...</td>\n",
       "      <td>...</td>\n",
       "      <td>...</td>\n",
       "      <td>...</td>\n",
       "      <td>...</td>\n",
       "      <td>...</td>\n",
       "      <td>...</td>\n",
       "      <td>...</td>\n",
       "      <td>...</td>\n",
       "    </tr>\n",
       "    <tr>\n",
       "      <th>319790</th>\n",
       "      <td>1</td>\n",
       "      <td>1180</td>\n",
       "      <td>1</td>\n",
       "      <td>0</td>\n",
       "      <td>0</td>\n",
       "      <td>7</td>\n",
       "      <td>0</td>\n",
       "      <td>1</td>\n",
       "      <td>1</td>\n",
       "      <td>8</td>\n",
       "      <td>3</td>\n",
       "      <td>2</td>\n",
       "      <td>0</td>\n",
       "      <td>1</td>\n",
       "      <td>5</td>\n",
       "      <td>1</td>\n",
       "      <td>0</td>\n",
       "      <td>0</td>\n",
       "    </tr>\n",
       "    <tr>\n",
       "      <th>319791</th>\n",
       "      <td>0</td>\n",
       "      <td>1397</td>\n",
       "      <td>1</td>\n",
       "      <td>0</td>\n",
       "      <td>0</td>\n",
       "      <td>0</td>\n",
       "      <td>0</td>\n",
       "      <td>0</td>\n",
       "      <td>1</td>\n",
       "      <td>3</td>\n",
       "      <td>3</td>\n",
       "      <td>0</td>\n",
       "      <td>1</td>\n",
       "      <td>4</td>\n",
       "      <td>4</td>\n",
       "      <td>1</td>\n",
       "      <td>0</td>\n",
       "      <td>0</td>\n",
       "    </tr>\n",
       "    <tr>\n",
       "      <th>319792</th>\n",
       "      <td>0</td>\n",
       "      <td>886</td>\n",
       "      <td>0</td>\n",
       "      <td>0</td>\n",
       "      <td>0</td>\n",
       "      <td>0</td>\n",
       "      <td>0</td>\n",
       "      <td>0</td>\n",
       "      <td>0</td>\n",
       "      <td>5</td>\n",
       "      <td>3</td>\n",
       "      <td>0</td>\n",
       "      <td>1</td>\n",
       "      <td>2</td>\n",
       "      <td>5</td>\n",
       "      <td>0</td>\n",
       "      <td>0</td>\n",
       "      <td>0</td>\n",
       "    </tr>\n",
       "    <tr>\n",
       "      <th>319793</th>\n",
       "      <td>0</td>\n",
       "      <td>1658</td>\n",
       "      <td>0</td>\n",
       "      <td>0</td>\n",
       "      <td>0</td>\n",
       "      <td>0</td>\n",
       "      <td>0</td>\n",
       "      <td>0</td>\n",
       "      <td>0</td>\n",
       "      <td>1</td>\n",
       "      <td>3</td>\n",
       "      <td>0</td>\n",
       "      <td>0</td>\n",
       "      <td>2</td>\n",
       "      <td>11</td>\n",
       "      <td>0</td>\n",
       "      <td>0</td>\n",
       "      <td>0</td>\n",
       "    </tr>\n",
       "    <tr>\n",
       "      <th>319794</th>\n",
       "      <td>0</td>\n",
       "      <td>2700</td>\n",
       "      <td>0</td>\n",
       "      <td>0</td>\n",
       "      <td>0</td>\n",
       "      <td>0</td>\n",
       "      <td>0</td>\n",
       "      <td>0</td>\n",
       "      <td>0</td>\n",
       "      <td>12</td>\n",
       "      <td>3</td>\n",
       "      <td>0</td>\n",
       "      <td>1</td>\n",
       "      <td>2</td>\n",
       "      <td>7</td>\n",
       "      <td>0</td>\n",
       "      <td>0</td>\n",
       "      <td>0</td>\n",
       "    </tr>\n",
       "  </tbody>\n",
       "</table>\n",
       "<p>301717 rows × 18 columns</p>\n",
       "</div>"
      ],
      "text/plain": [
       "        HeartDisease   BMI  Smoking  AlcoholDrinking  Stroke  PhysicalHealth  \\\n",
       "0                  0   223        1                0       0               3   \n",
       "1                  0   524        0                0       1               0   \n",
       "2                  0  1103        1                0       0              20   \n",
       "3                  0   883        0                0       0               0   \n",
       "4                  0   837        0                0       0              28   \n",
       "...              ...   ...      ...              ...     ...             ...   \n",
       "319790             1  1180        1                0       0               7   \n",
       "319791             0  1397        1                0       0               0   \n",
       "319792             0   886        0                0       0               0   \n",
       "319793             0  1658        0                0       0               0   \n",
       "319794             0  2700        0                0       0               0   \n",
       "\n",
       "        MentalHealth  DiffWalking  Sex  AgeCategory  Race  Diabetic  \\\n",
       "0                 30            0    0            7     5         2   \n",
       "1                  0            0    0           12     5         0   \n",
       "2                 30            0    1            9     5         2   \n",
       "3                  0            0    0           11     5         0   \n",
       "4                  0            1    0            4     5         0   \n",
       "...              ...          ...  ...          ...   ...       ...   \n",
       "319790             0            1    1            8     3         2   \n",
       "319791             0            0    1            3     3         0   \n",
       "319792             0            0    0            5     3         0   \n",
       "319793             0            0    0            1     3         0   \n",
       "319794             0            0    0           12     3         0   \n",
       "\n",
       "        PhysicalActivity  GenHealth  SleepTime  Asthma  KidneyDisease  \\\n",
       "0                      1          4          4       1              0   \n",
       "1                      1          4          6       0              0   \n",
       "2                      1          1          7       1              0   \n",
       "3                      0          2          5       0              0   \n",
       "4                      1          4          7       0              0   \n",
       "...                  ...        ...        ...     ...            ...   \n",
       "319790                 0          1          5       1              0   \n",
       "319791                 1          4          4       1              0   \n",
       "319792                 1          2          5       0              0   \n",
       "319793                 0          2         11       0              0   \n",
       "319794                 1          2          7       0              0   \n",
       "\n",
       "        SkinCancer  \n",
       "0                1  \n",
       "1                0  \n",
       "2                0  \n",
       "3                1  \n",
       "4                0  \n",
       "...            ...  \n",
       "319790           0  \n",
       "319791           0  \n",
       "319792           0  \n",
       "319793           0  \n",
       "319794           0  \n",
       "\n",
       "[301717 rows x 18 columns]"
      ]
     },
     "execution_count": 37,
     "metadata": {},
     "output_type": "execute_result"
    }
   ],
   "source": [
    "label=LabelEncoder()\n",
    "for col in df:\n",
    "    df[col]=label.fit_transform(df[col])\n",
    "df "
   ]
  },
  {
   "cell_type": "code",
   "execution_count": 38,
   "id": "5656dcd4-0b6d-4ed5-ab97-b2930b873b8e",
   "metadata": {},
   "outputs": [],
   "source": [
    "x = df.drop('HeartDisease',axis=1)\n",
    "y = df[['HeartDisease']]"
   ]
  },
  {
   "cell_type": "code",
   "execution_count": 39,
   "id": "f78e9f70-ecfe-44c1-a893-c1a1d96a84ff",
   "metadata": {},
   "outputs": [],
   "source": [
    "xtrain, xtest, ytrain, ytest = train_test_split(x, y, train_size=.70,random_state=42) "
   ]
  },
  {
   "cell_type": "code",
   "execution_count": 40,
   "id": "4539478a-7646-49fe-b0ab-b230228282c8",
   "metadata": {},
   "outputs": [
    {
     "data": {
      "text/plain": [
       "0.8539263776569889"
      ]
     },
     "execution_count": 40,
     "metadata": {},
     "output_type": "execute_result"
    }
   ],
   "source": [
    "Clf = DecisionTreeClassifier()\n",
    "Clf.fit(xtrain,ytrain) \n",
    "Clf.score(xtest,ytest) # after sampling"
   ]
  },
  {
   "cell_type": "code",
   "execution_count": 41,
   "id": "ae63602b-1401-437f-89f8-d4f72e62525e",
   "metadata": {},
   "outputs": [
    {
     "data": {
      "text/plain": [
       "0.9544473794980064"
      ]
     },
     "execution_count": 41,
     "metadata": {},
     "output_type": "execute_result"
    }
   ],
   "source": [
    "Clf.score(x,y) "
   ]
  },
  {
   "cell_type": "markdown",
   "id": "5ecb9a02-637a-4529-9e91-afc39d839cba",
   "metadata": {},
   "source": [
    "#### over sampling"
   ]
  },
  {
   "cell_type": "code",
   "execution_count": 42,
   "id": "0ad31b0c-924d-4b0e-8609-3b794e42ddfe",
   "metadata": {},
   "outputs": [
    {
     "data": {
      "text/plain": [
       "0.9486622053268883"
      ]
     },
     "execution_count": 42,
     "metadata": {},
     "output_type": "execute_result"
    }
   ],
   "source": [
    "over = RandomOverSampler(random_state=42)\n",
    "x_new , y_new = over.fit_resample(x,y)\n",
    "xtrain, xtest, ytrain, ytest = train_test_split(x_new, y_new, train_size=.70,random_state=42)\n",
    "dt = DecisionTreeClassifier() \n",
    "dt.fit(xtrain,ytrain)\n",
    "dt.score(xtest,ytest) # after sampling"
   ]
  },
  {
   "cell_type": "code",
   "execution_count": 43,
   "id": "9be5f6f8-4fb6-41b4-98fe-5e3c5d5e3c4d",
   "metadata": {},
   "outputs": [
    {
     "data": {
      "text/plain": [
       "0.9979361749748854"
      ]
     },
     "execution_count": 43,
     "metadata": {},
     "output_type": "execute_result"
    }
   ],
   "source": [
    "dt.score(xtrain,ytrain) # after sampling"
   ]
  },
  {
   "cell_type": "code",
   "execution_count": 44,
   "id": "c229f359-438d-4790-ace9-e7d3e8a9fdc0",
   "metadata": {},
   "outputs": [
    {
     "name": "stdout",
     "output_type": "stream",
     "text": [
      "Confusion Matrix:\n",
      "[[73768  8375]\n",
      " [   79 82452]]\n",
      "\n",
      "Classification Report:\n",
      "              precision    recall  f1-score   support\n",
      "\n",
      "           0       1.00      0.90      0.95     82143\n",
      "           1       0.91      1.00      0.95     82531\n",
      "\n",
      "    accuracy                           0.95    164674\n",
      "   macro avg       0.95      0.95      0.95    164674\n",
      "weighted avg       0.95      0.95      0.95    164674\n",
      "\n",
      "\n",
      "AUC-ROC Score:\n",
      "0.949439586427898\n"
     ]
    }
   ],
   "source": [
    "from sklearn.metrics import classification_report, confusion_matrix, roc_auc_score\n",
    "\n",
    "y_pred = dt.predict(xtest)\n",
    "\n",
    "print(\"Confusion Matrix:\")\n",
    "print(confusion_matrix(ytest, y_pred))\n",
    "\n",
    "print(\"\\nClassification Report:\")\n",
    "print(classification_report(ytest, y_pred))\n",
    "\n",
    "print(\"\\nAUC-ROC Score:\")\n",
    "print(roc_auc_score(ytest, dt.predict_proba(xtest)[:, 1]))\n"
   ]
  },
  {
   "cell_type": "markdown",
   "id": "09bd982e-ef73-45ec-abfb-e68413bff141",
   "metadata": {},
   "source": [
    "### Random Forest"
   ]
  },
  {
   "cell_type": "code",
   "execution_count": 45,
   "id": "4434df71-ad84-4d61-a4ae-e98eb16dec8c",
   "metadata": {},
   "outputs": [
    {
     "name": "stdout",
     "output_type": "stream",
     "text": [
      "Training accuracy: 0.9979361749748854\n",
      "Testing accuracy: 0.9642505799336871\n"
     ]
    }
   ],
   "source": [
    "# Focal cell:\n",
    "rf = RandomForestClassifier()\n",
    "\n",
    "# Train the random forest model\n",
    "rf.fit(xtrain, ytrain)\n",
    "\n",
    "# Calculate the accuracy score on the training data\n",
    "train_score = rf.score(xtrain, ytrain)\n",
    "print(\"Training accuracy:\", train_score)\n",
    "\n",
    "# Calculate the accuracy score on the testing data\n",
    "test_score = rf.score(xtest, ytest)\n",
    "print(\"Testing accuracy:\", test_score)"
   ]
  },
  {
   "cell_type": "code",
   "execution_count": 46,
   "id": "680adf6a-f740-4063-8fd8-dccc93fc5b69",
   "metadata": {},
   "outputs": [
    {
     "name": "stdout",
     "output_type": "stream",
     "text": [
      "Training accuracy: 0.7884852617388182\n",
      "Testing accuracy: 0.7823517980980604\n"
     ]
    }
   ],
   "source": [
    "# Create an instance of XGBClassifier\n",
    "xgb = XGBClassifier()\n",
    "\n",
    "# Fit the model on the training data\n",
    "xgb.fit(xtrain, ytrain)\n",
    "\n",
    "# Calculate the accuracy score on the training data\n",
    "train_score = xgb.score(xtrain, ytrain)\n",
    "print(\"Training accuracy:\", train_score)\n",
    "\n",
    "# Calculate the accuracy score on the test data\n",
    "test_score = xgb.score(xtest, ytest)\n",
    "print(\"Testing accuracy:\", test_score)"
   ]
  },
  {
   "cell_type": "markdown",
   "id": "3789be00-2797-4ea9-a432-0d2960f9d856",
   "metadata": {},
   "source": [
    "#### K Fold Cross Validation"
   ]
  },
  {
   "cell_type": "code",
   "execution_count": 47,
   "id": "9129987f-48ff-4530-8ac9-5169142dd864",
   "metadata": {},
   "outputs": [],
   "source": [
    "kfold = KFold(n_splits=5, shuffle=True) #each fold contain 25% data\n",
    "result = cross_val_score(xgb, x_new, y_new, cv=kfold)"
   ]
  },
  {
   "cell_type": "code",
   "execution_count": 48,
   "id": "55c364a6-ed8b-42dc-b105-5539fdb16b77",
   "metadata": {},
   "outputs": [
    {
     "data": {
      "text/plain": [
       "array([0.78184236, 0.78455681, 0.78483722, 0.78102968, 0.78236869])"
      ]
     },
     "execution_count": 48,
     "metadata": {},
     "output_type": "execute_result"
    }
   ],
   "source": [
    "result"
   ]
  },
  {
   "cell_type": "code",
   "execution_count": 49,
   "id": "4ead5926-29cc-461a-b93c-508a5e5cd12b",
   "metadata": {},
   "outputs": [
    {
     "data": {
      "text/plain": [
       "0.782926952689568"
      ]
     },
     "execution_count": 49,
     "metadata": {},
     "output_type": "execute_result"
    }
   ],
   "source": [
    "result.mean()"
   ]
  },
  {
   "cell_type": "code",
   "execution_count": 50,
   "id": "a1e8255a-013a-40f3-bb33-d2792a096773",
   "metadata": {},
   "outputs": [
    {
     "data": {
      "text/plain": [
       "0.7848372228598495"
      ]
     },
     "execution_count": 50,
     "metadata": {},
     "output_type": "execute_result"
    }
   ],
   "source": [
    "result.max()"
   ]
  },
  {
   "cell_type": "code",
   "execution_count": 51,
   "id": "b2170bd4-d715-45af-9d43-deb275a2b1ac",
   "metadata": {},
   "outputs": [
    {
     "data": {
      "text/plain": [
       "0.7810296769962289"
      ]
     },
     "execution_count": 51,
     "metadata": {},
     "output_type": "execute_result"
    }
   ],
   "source": [
    "result.min()"
   ]
  },
  {
   "cell_type": "markdown",
   "id": "01196633-ae5b-4a94-af75-038900cdff38",
   "metadata": {},
   "source": [
    "#### Extra Trees Classifier fro feture selection"
   ]
  },
  {
   "cell_type": "code",
   "execution_count": 52,
   "id": "03df72d0-9549-4fac-b84d-7da29f8df276",
   "metadata": {},
   "outputs": [
    {
     "data": {
      "text/html": [
       "<style>#sk-container-id-1 {color: black;}#sk-container-id-1 pre{padding: 0;}#sk-container-id-1 div.sk-toggleable {background-color: white;}#sk-container-id-1 label.sk-toggleable__label {cursor: pointer;display: block;width: 100%;margin-bottom: 0;padding: 0.3em;box-sizing: border-box;text-align: center;}#sk-container-id-1 label.sk-toggleable__label-arrow:before {content: \"▸\";float: left;margin-right: 0.25em;color: #696969;}#sk-container-id-1 label.sk-toggleable__label-arrow:hover:before {color: black;}#sk-container-id-1 div.sk-estimator:hover label.sk-toggleable__label-arrow:before {color: black;}#sk-container-id-1 div.sk-toggleable__content {max-height: 0;max-width: 0;overflow: hidden;text-align: left;background-color: #f0f8ff;}#sk-container-id-1 div.sk-toggleable__content pre {margin: 0.2em;color: black;border-radius: 0.25em;background-color: #f0f8ff;}#sk-container-id-1 input.sk-toggleable__control:checked~div.sk-toggleable__content {max-height: 200px;max-width: 100%;overflow: auto;}#sk-container-id-1 input.sk-toggleable__control:checked~label.sk-toggleable__label-arrow:before {content: \"▾\";}#sk-container-id-1 div.sk-estimator input.sk-toggleable__control:checked~label.sk-toggleable__label {background-color: #d4ebff;}#sk-container-id-1 div.sk-label input.sk-toggleable__control:checked~label.sk-toggleable__label {background-color: #d4ebff;}#sk-container-id-1 input.sk-hidden--visually {border: 0;clip: rect(1px 1px 1px 1px);clip: rect(1px, 1px, 1px, 1px);height: 1px;margin: -1px;overflow: hidden;padding: 0;position: absolute;width: 1px;}#sk-container-id-1 div.sk-estimator {font-family: monospace;background-color: #f0f8ff;border: 1px dotted black;border-radius: 0.25em;box-sizing: border-box;margin-bottom: 0.5em;}#sk-container-id-1 div.sk-estimator:hover {background-color: #d4ebff;}#sk-container-id-1 div.sk-parallel-item::after {content: \"\";width: 100%;border-bottom: 1px solid gray;flex-grow: 1;}#sk-container-id-1 div.sk-label:hover label.sk-toggleable__label {background-color: #d4ebff;}#sk-container-id-1 div.sk-serial::before {content: \"\";position: absolute;border-left: 1px solid gray;box-sizing: border-box;top: 0;bottom: 0;left: 50%;z-index: 0;}#sk-container-id-1 div.sk-serial {display: flex;flex-direction: column;align-items: center;background-color: white;padding-right: 0.2em;padding-left: 0.2em;position: relative;}#sk-container-id-1 div.sk-item {position: relative;z-index: 1;}#sk-container-id-1 div.sk-parallel {display: flex;align-items: stretch;justify-content: center;background-color: white;position: relative;}#sk-container-id-1 div.sk-item::before, #sk-container-id-1 div.sk-parallel-item::before {content: \"\";position: absolute;border-left: 1px solid gray;box-sizing: border-box;top: 0;bottom: 0;left: 50%;z-index: -1;}#sk-container-id-1 div.sk-parallel-item {display: flex;flex-direction: column;z-index: 1;position: relative;background-color: white;}#sk-container-id-1 div.sk-parallel-item:first-child::after {align-self: flex-end;width: 50%;}#sk-container-id-1 div.sk-parallel-item:last-child::after {align-self: flex-start;width: 50%;}#sk-container-id-1 div.sk-parallel-item:only-child::after {width: 0;}#sk-container-id-1 div.sk-dashed-wrapped {border: 1px dashed gray;margin: 0 0.4em 0.5em 0.4em;box-sizing: border-box;padding-bottom: 0.4em;background-color: white;}#sk-container-id-1 div.sk-label label {font-family: monospace;font-weight: bold;display: inline-block;line-height: 1.2em;}#sk-container-id-1 div.sk-label-container {text-align: center;}#sk-container-id-1 div.sk-container {/* jupyter's `normalize.less` sets `[hidden] { display: none; }` but bootstrap.min.css set `[hidden] { display: none !important; }` so we also need the `!important` here to be able to override the default hidden behavior on the sphinx rendered scikit-learn.org. See: https://github.com/scikit-learn/scikit-learn/issues/21755 */display: inline-block !important;position: relative;}#sk-container-id-1 div.sk-text-repr-fallback {display: none;}</style><div id=\"sk-container-id-1\" class=\"sk-top-container\"><div class=\"sk-text-repr-fallback\"><pre>ExtraTreesClassifier()</pre><b>In a Jupyter environment, please rerun this cell to show the HTML representation or trust the notebook. <br />On GitHub, the HTML representation is unable to render, please try loading this page with nbviewer.org.</b></div><div class=\"sk-container\" hidden><div class=\"sk-item\"><div class=\"sk-estimator sk-toggleable\"><input class=\"sk-toggleable__control sk-hidden--visually\" id=\"sk-estimator-id-1\" type=\"checkbox\" checked><label for=\"sk-estimator-id-1\" class=\"sk-toggleable__label sk-toggleable__label-arrow\">ExtraTreesClassifier</label><div class=\"sk-toggleable__content\"><pre>ExtraTreesClassifier()</pre></div></div></div></div></div>"
      ],
      "text/plain": [
       "ExtraTreesClassifier()"
      ]
     },
     "execution_count": 52,
     "metadata": {},
     "output_type": "execute_result"
    }
   ],
   "source": [
    "extr = ExtraTreesClassifier()\n",
    "extr.fit(x_new,y_new)"
   ]
  },
  {
   "cell_type": "code",
   "execution_count": 53,
   "id": "0e97d681-5780-4319-8149-f7988029e1e4",
   "metadata": {},
   "outputs": [
    {
     "data": {
      "text/plain": [
       "array([0.24168351, 0.01933232, 0.00890267, 0.03132774, 0.07093299,\n",
       "       0.06523648, 0.0445704 , 0.02465745, 0.1858011 , 0.03705499,\n",
       "       0.0393394 , 0.01781612, 0.06689235, 0.10315752, 0.01491099,\n",
       "       0.01466179, 0.01372217])"
      ]
     },
     "execution_count": 53,
     "metadata": {},
     "output_type": "execute_result"
    }
   ],
   "source": [
    "extr.feature_importances_ # IG from decision tree"
   ]
  },
  {
   "cell_type": "code",
   "execution_count": 54,
   "id": "fc19b562-076c-49f7-b8ff-aef756556c53",
   "metadata": {},
   "outputs": [
    {
     "data": {
      "text/plain": [
       "array([0.24168351, 0.01933232, 0.00890267, 0.03132774, 0.07093299,\n",
       "       0.06523648, 0.0445704 , 0.02465745, 0.1858011 , 0.03705499,\n",
       "       0.0393394 , 0.01781612, 0.06689235, 0.10315752, 0.01491099,\n",
       "       0.01466179, 0.01372217])"
      ]
     },
     "execution_count": 54,
     "metadata": {},
     "output_type": "execute_result"
    }
   ],
   "source": [
    "feature_importance = extr.feature_importances_\n",
    "feature_importance #info gain"
   ]
  },
  {
   "cell_type": "code",
   "execution_count": 55,
   "id": "c5e67cba-9bf2-4111-b6ba-14f3e75098f1",
   "metadata": {},
   "outputs": [
    {
     "data": {
      "text/html": [
       "<div>\n",
       "<style scoped>\n",
       "    .dataframe tbody tr th:only-of-type {\n",
       "        vertical-align: middle;\n",
       "    }\n",
       "\n",
       "    .dataframe tbody tr th {\n",
       "        vertical-align: top;\n",
       "    }\n",
       "\n",
       "    .dataframe thead th {\n",
       "        text-align: right;\n",
       "    }\n",
       "</style>\n",
       "<table border=\"1\" class=\"dataframe\">\n",
       "  <thead>\n",
       "    <tr style=\"text-align: right;\">\n",
       "      <th></th>\n",
       "      <th>Gain_Score</th>\n",
       "    </tr>\n",
       "  </thead>\n",
       "  <tbody>\n",
       "    <tr>\n",
       "      <th>0</th>\n",
       "      <td>0.241684</td>\n",
       "    </tr>\n",
       "    <tr>\n",
       "      <th>1</th>\n",
       "      <td>0.019332</td>\n",
       "    </tr>\n",
       "    <tr>\n",
       "      <th>2</th>\n",
       "      <td>0.008903</td>\n",
       "    </tr>\n",
       "    <tr>\n",
       "      <th>3</th>\n",
       "      <td>0.031328</td>\n",
       "    </tr>\n",
       "    <tr>\n",
       "      <th>4</th>\n",
       "      <td>0.070933</td>\n",
       "    </tr>\n",
       "    <tr>\n",
       "      <th>5</th>\n",
       "      <td>0.065236</td>\n",
       "    </tr>\n",
       "    <tr>\n",
       "      <th>6</th>\n",
       "      <td>0.044570</td>\n",
       "    </tr>\n",
       "    <tr>\n",
       "      <th>7</th>\n",
       "      <td>0.024657</td>\n",
       "    </tr>\n",
       "    <tr>\n",
       "      <th>8</th>\n",
       "      <td>0.185801</td>\n",
       "    </tr>\n",
       "    <tr>\n",
       "      <th>9</th>\n",
       "      <td>0.037055</td>\n",
       "    </tr>\n",
       "    <tr>\n",
       "      <th>10</th>\n",
       "      <td>0.039339</td>\n",
       "    </tr>\n",
       "    <tr>\n",
       "      <th>11</th>\n",
       "      <td>0.017816</td>\n",
       "    </tr>\n",
       "    <tr>\n",
       "      <th>12</th>\n",
       "      <td>0.066892</td>\n",
       "    </tr>\n",
       "    <tr>\n",
       "      <th>13</th>\n",
       "      <td>0.103158</td>\n",
       "    </tr>\n",
       "    <tr>\n",
       "      <th>14</th>\n",
       "      <td>0.014911</td>\n",
       "    </tr>\n",
       "    <tr>\n",
       "      <th>15</th>\n",
       "      <td>0.014662</td>\n",
       "    </tr>\n",
       "    <tr>\n",
       "      <th>16</th>\n",
       "      <td>0.013722</td>\n",
       "    </tr>\n",
       "  </tbody>\n",
       "</table>\n",
       "</div>"
      ],
      "text/plain": [
       "    Gain_Score\n",
       "0     0.241684\n",
       "1     0.019332\n",
       "2     0.008903\n",
       "3     0.031328\n",
       "4     0.070933\n",
       "5     0.065236\n",
       "6     0.044570\n",
       "7     0.024657\n",
       "8     0.185801\n",
       "9     0.037055\n",
       "10    0.039339\n",
       "11    0.017816\n",
       "12    0.066892\n",
       "13    0.103158\n",
       "14    0.014911\n",
       "15    0.014662\n",
       "16    0.013722"
      ]
     },
     "execution_count": 55,
     "metadata": {},
     "output_type": "execute_result"
    }
   ],
   "source": [
    "imp = pd.DataFrame(feature_importance, columns=['Gain_Score'])\n",
    "imp"
   ]
  },
  {
   "cell_type": "code",
   "execution_count": 56,
   "id": "e4053151-18d3-4470-abf1-37685773f8cd",
   "metadata": {},
   "outputs": [
    {
     "data": {
      "text/plain": [
       "Index(['BMI', 'Smoking', 'AlcoholDrinking', 'Stroke', 'PhysicalHealth',\n",
       "       'MentalHealth', 'DiffWalking', 'Sex', 'AgeCategory', 'Race', 'Diabetic',\n",
       "       'PhysicalActivity', 'GenHealth', 'SleepTime', 'Asthma', 'KidneyDisease',\n",
       "       'SkinCancer'],\n",
       "      dtype='object')"
      ]
     },
     "execution_count": 56,
     "metadata": {},
     "output_type": "execute_result"
    }
   ],
   "source": [
    "x_new.columns"
   ]
  },
  {
   "cell_type": "code",
   "execution_count": 57,
   "id": "bcdadab7-e2a2-46e6-a5c5-678a65d6fbea",
   "metadata": {},
   "outputs": [
    {
     "data": {
      "text/html": [
       "<div>\n",
       "<style scoped>\n",
       "    .dataframe tbody tr th:only-of-type {\n",
       "        vertical-align: middle;\n",
       "    }\n",
       "\n",
       "    .dataframe tbody tr th {\n",
       "        vertical-align: top;\n",
       "    }\n",
       "\n",
       "    .dataframe thead th {\n",
       "        text-align: right;\n",
       "    }\n",
       "</style>\n",
       "<table border=\"1\" class=\"dataframe\">\n",
       "  <thead>\n",
       "    <tr style=\"text-align: right;\">\n",
       "      <th></th>\n",
       "      <th>Feature_Names</th>\n",
       "    </tr>\n",
       "  </thead>\n",
       "  <tbody>\n",
       "    <tr>\n",
       "      <th>0</th>\n",
       "      <td>BMI</td>\n",
       "    </tr>\n",
       "    <tr>\n",
       "      <th>1</th>\n",
       "      <td>Smoking</td>\n",
       "    </tr>\n",
       "    <tr>\n",
       "      <th>2</th>\n",
       "      <td>AlcoholDrinking</td>\n",
       "    </tr>\n",
       "    <tr>\n",
       "      <th>3</th>\n",
       "      <td>Stroke</td>\n",
       "    </tr>\n",
       "    <tr>\n",
       "      <th>4</th>\n",
       "      <td>PhysicalHealth</td>\n",
       "    </tr>\n",
       "    <tr>\n",
       "      <th>5</th>\n",
       "      <td>MentalHealth</td>\n",
       "    </tr>\n",
       "    <tr>\n",
       "      <th>6</th>\n",
       "      <td>DiffWalking</td>\n",
       "    </tr>\n",
       "    <tr>\n",
       "      <th>7</th>\n",
       "      <td>Sex</td>\n",
       "    </tr>\n",
       "    <tr>\n",
       "      <th>8</th>\n",
       "      <td>AgeCategory</td>\n",
       "    </tr>\n",
       "    <tr>\n",
       "      <th>9</th>\n",
       "      <td>Race</td>\n",
       "    </tr>\n",
       "    <tr>\n",
       "      <th>10</th>\n",
       "      <td>Diabetic</td>\n",
       "    </tr>\n",
       "    <tr>\n",
       "      <th>11</th>\n",
       "      <td>PhysicalActivity</td>\n",
       "    </tr>\n",
       "    <tr>\n",
       "      <th>12</th>\n",
       "      <td>GenHealth</td>\n",
       "    </tr>\n",
       "    <tr>\n",
       "      <th>13</th>\n",
       "      <td>SleepTime</td>\n",
       "    </tr>\n",
       "    <tr>\n",
       "      <th>14</th>\n",
       "      <td>Asthma</td>\n",
       "    </tr>\n",
       "    <tr>\n",
       "      <th>15</th>\n",
       "      <td>KidneyDisease</td>\n",
       "    </tr>\n",
       "    <tr>\n",
       "      <th>16</th>\n",
       "      <td>SkinCancer</td>\n",
       "    </tr>\n",
       "  </tbody>\n",
       "</table>\n",
       "</div>"
      ],
      "text/plain": [
       "       Feature_Names\n",
       "0                BMI\n",
       "1            Smoking\n",
       "2    AlcoholDrinking\n",
       "3             Stroke\n",
       "4     PhysicalHealth\n",
       "5       MentalHealth\n",
       "6        DiffWalking\n",
       "7                Sex\n",
       "8        AgeCategory\n",
       "9               Race\n",
       "10          Diabetic\n",
       "11  PhysicalActivity\n",
       "12         GenHealth\n",
       "13         SleepTime\n",
       "14            Asthma\n",
       "15     KidneyDisease\n",
       "16        SkinCancer"
      ]
     },
     "execution_count": 57,
     "metadata": {},
     "output_type": "execute_result"
    }
   ],
   "source": [
    "cols = pd.DataFrame(x_new.columns, columns=['Feature_Names'])\n",
    "cols"
   ]
  },
  {
   "cell_type": "code",
   "execution_count": 58,
   "id": "74ceed2e-f6dd-4a1b-abe8-8df03e8f4288",
   "metadata": {},
   "outputs": [
    {
     "data": {
      "text/html": [
       "<div>\n",
       "<style scoped>\n",
       "    .dataframe tbody tr th:only-of-type {\n",
       "        vertical-align: middle;\n",
       "    }\n",
       "\n",
       "    .dataframe tbody tr th {\n",
       "        vertical-align: top;\n",
       "    }\n",
       "\n",
       "    .dataframe thead th {\n",
       "        text-align: right;\n",
       "    }\n",
       "</style>\n",
       "<table border=\"1\" class=\"dataframe\">\n",
       "  <thead>\n",
       "    <tr style=\"text-align: right;\">\n",
       "      <th></th>\n",
       "      <th>Feature_Names</th>\n",
       "      <th>Gain_Score</th>\n",
       "    </tr>\n",
       "  </thead>\n",
       "  <tbody>\n",
       "    <tr>\n",
       "      <th>0</th>\n",
       "      <td>BMI</td>\n",
       "      <td>0.241684</td>\n",
       "    </tr>\n",
       "    <tr>\n",
       "      <th>1</th>\n",
       "      <td>Smoking</td>\n",
       "      <td>0.019332</td>\n",
       "    </tr>\n",
       "    <tr>\n",
       "      <th>2</th>\n",
       "      <td>AlcoholDrinking</td>\n",
       "      <td>0.008903</td>\n",
       "    </tr>\n",
       "    <tr>\n",
       "      <th>3</th>\n",
       "      <td>Stroke</td>\n",
       "      <td>0.031328</td>\n",
       "    </tr>\n",
       "    <tr>\n",
       "      <th>4</th>\n",
       "      <td>PhysicalHealth</td>\n",
       "      <td>0.070933</td>\n",
       "    </tr>\n",
       "    <tr>\n",
       "      <th>5</th>\n",
       "      <td>MentalHealth</td>\n",
       "      <td>0.065236</td>\n",
       "    </tr>\n",
       "    <tr>\n",
       "      <th>6</th>\n",
       "      <td>DiffWalking</td>\n",
       "      <td>0.044570</td>\n",
       "    </tr>\n",
       "    <tr>\n",
       "      <th>7</th>\n",
       "      <td>Sex</td>\n",
       "      <td>0.024657</td>\n",
       "    </tr>\n",
       "    <tr>\n",
       "      <th>8</th>\n",
       "      <td>AgeCategory</td>\n",
       "      <td>0.185801</td>\n",
       "    </tr>\n",
       "    <tr>\n",
       "      <th>9</th>\n",
       "      <td>Race</td>\n",
       "      <td>0.037055</td>\n",
       "    </tr>\n",
       "    <tr>\n",
       "      <th>10</th>\n",
       "      <td>Diabetic</td>\n",
       "      <td>0.039339</td>\n",
       "    </tr>\n",
       "    <tr>\n",
       "      <th>11</th>\n",
       "      <td>PhysicalActivity</td>\n",
       "      <td>0.017816</td>\n",
       "    </tr>\n",
       "    <tr>\n",
       "      <th>12</th>\n",
       "      <td>GenHealth</td>\n",
       "      <td>0.066892</td>\n",
       "    </tr>\n",
       "    <tr>\n",
       "      <th>13</th>\n",
       "      <td>SleepTime</td>\n",
       "      <td>0.103158</td>\n",
       "    </tr>\n",
       "    <tr>\n",
       "      <th>14</th>\n",
       "      <td>Asthma</td>\n",
       "      <td>0.014911</td>\n",
       "    </tr>\n",
       "    <tr>\n",
       "      <th>15</th>\n",
       "      <td>KidneyDisease</td>\n",
       "      <td>0.014662</td>\n",
       "    </tr>\n",
       "    <tr>\n",
       "      <th>16</th>\n",
       "      <td>SkinCancer</td>\n",
       "      <td>0.013722</td>\n",
       "    </tr>\n",
       "  </tbody>\n",
       "</table>\n",
       "</div>"
      ],
      "text/plain": [
       "       Feature_Names  Gain_Score\n",
       "0                BMI    0.241684\n",
       "1            Smoking    0.019332\n",
       "2    AlcoholDrinking    0.008903\n",
       "3             Stroke    0.031328\n",
       "4     PhysicalHealth    0.070933\n",
       "5       MentalHealth    0.065236\n",
       "6        DiffWalking    0.044570\n",
       "7                Sex    0.024657\n",
       "8        AgeCategory    0.185801\n",
       "9               Race    0.037055\n",
       "10          Diabetic    0.039339\n",
       "11  PhysicalActivity    0.017816\n",
       "12         GenHealth    0.066892\n",
       "13         SleepTime    0.103158\n",
       "14            Asthma    0.014911\n",
       "15     KidneyDisease    0.014662\n",
       "16        SkinCancer    0.013722"
      ]
     },
     "execution_count": 58,
     "metadata": {},
     "output_type": "execute_result"
    }
   ],
   "source": [
    "gains = pd.concat([cols,imp],axis=1)\n",
    "gains"
   ]
  },
  {
   "cell_type": "code",
   "execution_count": 59,
   "id": "8719961d-0c54-42c8-af42-c890e93a7e57",
   "metadata": {},
   "outputs": [
    {
     "data": {
      "text/html": [
       "<div>\n",
       "<style scoped>\n",
       "    .dataframe tbody tr th:only-of-type {\n",
       "        vertical-align: middle;\n",
       "    }\n",
       "\n",
       "    .dataframe tbody tr th {\n",
       "        vertical-align: top;\n",
       "    }\n",
       "\n",
       "    .dataframe thead th {\n",
       "        text-align: right;\n",
       "    }\n",
       "</style>\n",
       "<table border=\"1\" class=\"dataframe\">\n",
       "  <thead>\n",
       "    <tr style=\"text-align: right;\">\n",
       "      <th></th>\n",
       "      <th>Feature_Names</th>\n",
       "      <th>Gain_Score</th>\n",
       "    </tr>\n",
       "  </thead>\n",
       "  <tbody>\n",
       "    <tr>\n",
       "      <th>0</th>\n",
       "      <td>BMI</td>\n",
       "      <td>0.241684</td>\n",
       "    </tr>\n",
       "    <tr>\n",
       "      <th>8</th>\n",
       "      <td>AgeCategory</td>\n",
       "      <td>0.185801</td>\n",
       "    </tr>\n",
       "    <tr>\n",
       "      <th>13</th>\n",
       "      <td>SleepTime</td>\n",
       "      <td>0.103158</td>\n",
       "    </tr>\n",
       "    <tr>\n",
       "      <th>4</th>\n",
       "      <td>PhysicalHealth</td>\n",
       "      <td>0.070933</td>\n",
       "    </tr>\n",
       "    <tr>\n",
       "      <th>12</th>\n",
       "      <td>GenHealth</td>\n",
       "      <td>0.066892</td>\n",
       "    </tr>\n",
       "    <tr>\n",
       "      <th>5</th>\n",
       "      <td>MentalHealth</td>\n",
       "      <td>0.065236</td>\n",
       "    </tr>\n",
       "    <tr>\n",
       "      <th>6</th>\n",
       "      <td>DiffWalking</td>\n",
       "      <td>0.044570</td>\n",
       "    </tr>\n",
       "    <tr>\n",
       "      <th>10</th>\n",
       "      <td>Diabetic</td>\n",
       "      <td>0.039339</td>\n",
       "    </tr>\n",
       "    <tr>\n",
       "      <th>9</th>\n",
       "      <td>Race</td>\n",
       "      <td>0.037055</td>\n",
       "    </tr>\n",
       "    <tr>\n",
       "      <th>3</th>\n",
       "      <td>Stroke</td>\n",
       "      <td>0.031328</td>\n",
       "    </tr>\n",
       "    <tr>\n",
       "      <th>7</th>\n",
       "      <td>Sex</td>\n",
       "      <td>0.024657</td>\n",
       "    </tr>\n",
       "    <tr>\n",
       "      <th>1</th>\n",
       "      <td>Smoking</td>\n",
       "      <td>0.019332</td>\n",
       "    </tr>\n",
       "    <tr>\n",
       "      <th>11</th>\n",
       "      <td>PhysicalActivity</td>\n",
       "      <td>0.017816</td>\n",
       "    </tr>\n",
       "    <tr>\n",
       "      <th>14</th>\n",
       "      <td>Asthma</td>\n",
       "      <td>0.014911</td>\n",
       "    </tr>\n",
       "    <tr>\n",
       "      <th>15</th>\n",
       "      <td>KidneyDisease</td>\n",
       "      <td>0.014662</td>\n",
       "    </tr>\n",
       "  </tbody>\n",
       "</table>\n",
       "</div>"
      ],
      "text/plain": [
       "       Feature_Names  Gain_Score\n",
       "0                BMI    0.241684\n",
       "8        AgeCategory    0.185801\n",
       "13         SleepTime    0.103158\n",
       "4     PhysicalHealth    0.070933\n",
       "12         GenHealth    0.066892\n",
       "5       MentalHealth    0.065236\n",
       "6        DiffWalking    0.044570\n",
       "10          Diabetic    0.039339\n",
       "9               Race    0.037055\n",
       "3             Stroke    0.031328\n",
       "7                Sex    0.024657\n",
       "1            Smoking    0.019332\n",
       "11  PhysicalActivity    0.017816\n",
       "14            Asthma    0.014911\n",
       "15     KidneyDisease    0.014662"
      ]
     },
     "execution_count": 59,
     "metadata": {},
     "output_type": "execute_result"
    }
   ],
   "source": [
    "gains.nlargest(15,'Gain_Score') #smallest()"
   ]
  },
  {
   "cell_type": "code",
   "execution_count": 60,
   "id": "a9d57d5e-e623-411b-a111-7f31fa69bc8f",
   "metadata": {},
   "outputs": [
    {
     "name": "stdout",
     "output_type": "stream",
     "text": [
      "             Feature  Importance\n",
      "0                BMI    0.285029\n",
      "8        AgeCategory    0.192119\n",
      "13         SleepTime    0.085913\n",
      "12         GenHealth    0.069430\n",
      "4     PhysicalHealth    0.065014\n",
      "5       MentalHealth    0.056844\n",
      "6        DiffWalking    0.039984\n",
      "10          Diabetic    0.033402\n",
      "9               Race    0.031984\n",
      "3             Stroke    0.027078\n",
      "7                Sex    0.025482\n",
      "11  PhysicalActivity    0.019109\n",
      "1            Smoking    0.017499\n",
      "14            Asthma    0.015917\n",
      "16        SkinCancer    0.013610\n",
      "15     KidneyDisease    0.012408\n",
      "2    AlcoholDrinking    0.009177\n"
     ]
    }
   ],
   "source": [
    "# Create a random forest regressor model\n",
    "rf = RandomForestClassifier()\n",
    "\n",
    "# Fit the model to your data\n",
    "rf.fit(x_new, y_new)\n",
    "\n",
    "# Retrieve feature importances from the trained model\n",
    "importances = rf.feature_importances_\n",
    "\n",
    "# Create a DataFrame to store feature importances\n",
    "feature_importances = pd.DataFrame({'Feature': x_new.columns, 'Importance': importances})\n",
    "\n",
    "# Sort the features by importance in descending order\n",
    "feature_importances = feature_importances.sort_values('Importance', ascending=False)\n",
    "\n",
    "# Print the ranked feature importances\n",
    "print(feature_importances)"
   ]
  },
  {
   "cell_type": "code",
   "execution_count": 61,
   "id": "c39f51c5-059f-491a-9332-5c8bc374bb62",
   "metadata": {},
   "outputs": [],
   "source": [
    "df.drop([ 'KidneyDisease','SkinCancer','AlcoholDrinking'], axis=1, inplace = True)"
   ]
  },
  {
   "cell_type": "markdown",
   "id": "5389e03b-a844-40e2-baab-8639e41cfc16",
   "metadata": {},
   "source": [
    "#### dimantionally reduction using pca"
   ]
  },
  {
   "cell_type": "code",
   "execution_count": 62,
   "id": "478058a5-5be6-4abf-b300-058c9fe6551a",
   "metadata": {},
   "outputs": [],
   "source": [
    "mmx = MinMaxScaler()\n",
    "xtrain = mmx.fit_transform(xtrain)\n",
    "xtest = mmx.transform(xtest)"
   ]
  },
  {
   "cell_type": "code",
   "execution_count": 63,
   "id": "141ac42b-0fbf-4c8f-b527-0fd8f0d18789",
   "metadata": {},
   "outputs": [
    {
     "data": {
      "text/plain": [
       "array([[0.24285318, 0.        , 0.        , ..., 0.        , 0.        ,\n",
       "        0.        ],\n",
       "       [0.45545379, 0.        , 0.        , ..., 0.        , 0.        ,\n",
       "        0.        ],\n",
       "       [0.22647794, 0.        , 0.        , ..., 0.        , 0.        ,\n",
       "        0.        ],\n",
       "       ...,\n",
       "       [0.45378851, 1.        , 0.        , ..., 0.        , 0.        ,\n",
       "        0.        ],\n",
       "       [0.34998612, 0.        , 0.        , ..., 1.        , 0.        ,\n",
       "        0.        ],\n",
       "       [0.16458507, 0.        , 0.        , ..., 0.        , 0.        ,\n",
       "        0.        ]])"
      ]
     },
     "execution_count": 63,
     "metadata": {},
     "output_type": "execute_result"
    }
   ],
   "source": [
    "xtrain"
   ]
  },
  {
   "cell_type": "code",
   "execution_count": 64,
   "id": "63a57f93-8da4-4f59-938f-e02ec6651759",
   "metadata": {},
   "outputs": [
    {
     "name": "stdout",
     "output_type": "stream",
     "text": [
      "Accuracy: 0.9348166680836076\n"
     ]
    }
   ],
   "source": [
    "from sklearn.feature_selection import SelectKBest, chi2\n",
    "from sklearn.decomposition import PCA\n",
    "# Apply chi-square feature selection\n",
    "kbest = SelectKBest(chi2, k=14)  # Select top 10 features\n",
    "xtrain_kbest = kbest.fit_transform(xtrain, ytrain)\n",
    "xtest_kbest = kbest.transform(xtest)\n",
    "\n",
    "# Apply PCA for dimensionality reduction\n",
    "pca = PCA(n_components=5)  # Reduce to 5 principal components\n",
    "xtrain_pca = pca.fit_transform(xtrain_kbest)\n",
    "xtest_pca = pca.transform(xtest_kbest)\n",
    "# Train the Random Forest classifier\n",
    "rf_classifier = RandomForestClassifier(n_estimators=100, random_state=42)\n",
    "rf_classifier.fit(xtrain_pca, ytrain)\n",
    "\n",
    "# Make predictions on the test set\n",
    "y_pred = rf_classifier.predict(xtest_pca)\n",
    "\n",
    "# Calculate accuracy\n",
    "accuracy = accuracy_score(ytest, y_pred)\n",
    "print(f\"Accuracy: {accuracy}\")"
   ]
  },
  {
   "cell_type": "markdown",
   "id": "96b9498b-79d6-4984-a7fe-49cc9bcc9c47",
   "metadata": {},
   "source": [
    "#### Linear SGDClassifier"
   ]
  },
  {
   "cell_type": "code",
   "execution_count": 65,
   "id": "0ea26802-4f88-44a3-b72d-054a6c3c2cd2",
   "metadata": {},
   "outputs": [
    {
     "name": "stdout",
     "output_type": "stream",
     "text": [
      "Testing score: 0.7470274603155325\n",
      "Training score: 0.748143077988122\n"
     ]
    }
   ],
   "source": [
    "from sklearn.linear_model import SGDClassifier\n",
    "# Create an instance of SGDClassifier\n",
    "lsgd = SGDClassifier()\n",
    "\n",
    "# Fit the model to the training data\n",
    "lsgd.fit(xtrain, ytrain)\n",
    "\n",
    "# Evaluate the model on the testing data\n",
    "testing_score = lsgd.score(xtest, ytest)\n",
    "print(\"Testing score:\", testing_score)\n",
    "\n",
    "# Evaluate the model on the training data\n",
    "training_score = lsgd.score(xtrain, ytrain)\n",
    "print(\"Training score:\", training_score)"
   ]
  },
  {
   "cell_type": "markdown",
   "id": "04af14f8-354f-438e-895b-aa7df9eefe3b",
   "metadata": {},
   "source": [
    "#### KNeighborsClassifier"
   ]
  },
  {
   "cell_type": "code",
   "execution_count": 66,
   "id": "8a5f963f-d850-41bd-9175-5307d4742151",
   "metadata": {},
   "outputs": [
    {
     "name": "stdout",
     "output_type": "stream",
     "text": [
      "Testing score: 0.7610065948480027\n",
      "Training score: 0.7664546452979664\n"
     ]
    }
   ],
   "source": [
    "# Create a KNN classifier object with 100 neighbors\n",
    "knn = KNeighborsClassifier(n_neighbors=100)\n",
    "\n",
    "# Train the classifier using the training data\n",
    "knn.fit(xtrain, ytrain)\n",
    "\n",
    "# Calculate the accuracy score on the test data\n",
    "testing_score= knn.score(xtest, ytest)  # testing\n",
    "print(\"Testing score:\", testing_score)\n",
    "\n",
    "# Calculate the accuracy score on the training data\n",
    "training_score= knn.score(xtrain, ytrain)  # training\n",
    "print(\"Training score:\", training_score)"
   ]
  },
  {
   "cell_type": "markdown",
   "id": "41716b64-37f2-4c03-b577-1a782f9017e0",
   "metadata": {},
   "source": [
    "#### XGBClassifier"
   ]
  },
  {
   "cell_type": "code",
   "execution_count": 67,
   "id": "4f5db2f9-2b70-4052-940f-50f930a493d1",
   "metadata": {},
   "outputs": [
    {
     "name": "stdout",
     "output_type": "stream",
     "text": [
      "Training accuracy: 0.7884852617388182\n",
      "Testing accuracy: 0.7823517980980604\n"
     ]
    }
   ],
   "source": [
    "# Create an instance of XGBClassifier\n",
    "xgb = XGBClassifier()\n",
    "\n",
    "# Fit the model on the training data\n",
    "xgb.fit(xtrain, ytrain)\n",
    "\n",
    "# Calculate the accuracy score on the training data\n",
    "train_score = xgb.score(xtrain, ytrain)\n",
    "print(\"Training accuracy:\", train_score)\n",
    "\n",
    "# Calculate the accuracy score on the test data\n",
    "test_score = xgb.score(xtest, ytest)\n",
    "print(\"Testing accuracy:\", test_score)"
   ]
  },
  {
   "cell_type": "markdown",
   "id": "69f31dab-7c52-4c47-9f48-f27efc9ffc9e",
   "metadata": {},
   "source": [
    "#### RandomForestClassifier"
   ]
  },
  {
   "cell_type": "code",
   "execution_count": 68,
   "id": "a100449a-b1aa-436b-b7b0-c45404de7a55",
   "metadata": {},
   "outputs": [
    {
     "name": "stdout",
     "output_type": "stream",
     "text": [
      "Training accuracy: 0.9979309698676341\n",
      "Testing accuracy: 0.9642566525377413\n"
     ]
    }
   ],
   "source": [
    "# Focal cell:\n",
    "rf = RandomForestClassifier()\n",
    "\n",
    "# Train the random forest model\n",
    "rf.fit(xtrain, ytrain)\n",
    "\n",
    "# Calculate the accuracy score on the training data\n",
    "train_score = rf.score(xtrain, ytrain)\n",
    "print(\"Training accuracy:\", train_score)\n",
    "\n",
    "# Calculate the accuracy score on the testing data\n",
    "test_score = rf.score(xtest, ytest)\n",
    "print(\"Testing accuracy:\", test_score)"
   ]
  },
  {
   "cell_type": "markdown",
   "id": "9f2df1a7-e000-454c-8a30-c7ac8b9494af",
   "metadata": {},
   "source": [
    "#### ExtraTreesClassifier"
   ]
  },
  {
   "cell_type": "code",
   "execution_count": 69,
   "id": "823dfa94-87ec-4022-90ab-1a7040dc8bab",
   "metadata": {},
   "outputs": [
    {
     "name": "stdout",
     "output_type": "stream",
     "text": [
      "Testing Score: 0.9719749322904648\n",
      "Training Score: 0.9979361749748854\n"
     ]
    }
   ],
   "source": [
    "# Create an instance of the ExtraTreesClassifier\n",
    "extr = ExtraTreesClassifier()\n",
    "\n",
    "# Fit the model to the training data\n",
    "extr.fit(xtrain, ytrain)\n",
    "\n",
    "# Evaluate the model on the testing data\n",
    "test_score = extr.score(xtest, ytest)\n",
    "print(\"Testing Score:\", test_score)\n",
    "\n",
    "# Evaluate the model on the training data\n",
    "train_score = extr.score(xtrain, ytrain)\n",
    "print(\"Training Score:\", train_score)"
   ]
  },
  {
   "cell_type": "markdown",
   "id": "7e9aeab1-2853-41e6-9266-6e83cee40cf5",
   "metadata": {},
   "source": [
    "#### DecisionTreeClassifier"
   ]
  },
  {
   "cell_type": "code",
   "execution_count": 70,
   "id": "657200a8-c13d-4f10-8f78-4d7ddf0bd7e8",
   "metadata": {},
   "outputs": [
    {
     "name": "stdout",
     "output_type": "stream",
     "text": [
      "Testing Score: 0.948637914910672\n",
      "Training Score: 0.9979361749748854\n"
     ]
    }
   ],
   "source": [
    "# Create an instance of the DecisionTreeClassifier\n",
    "dt = DecisionTreeClassifier() \n",
    "\n",
    "# Fit the model to the training data\n",
    "dt.fit(xtrain,ytrain)\n",
    "\n",
    "# Evaluate the model on the testing data\n",
    "test_score= dt.score(xtest,ytest) # after sampling\n",
    "print(\"Testing Score:\", test_score)\n",
    "\n",
    "# Evaluate the model on the training data\n",
    "train_score= dt.score(xtrain,ytrain) # after sampling\n",
    "print(\"Training Score:\", train_score)"
   ]
  },
  {
   "cell_type": "markdown",
   "id": "f9e3341e-128f-4554-8039-4db9c5dd4b2f",
   "metadata": {},
   "source": [
    "#### LogisticRegression"
   ]
  },
  {
   "cell_type": "code",
   "execution_count": 71,
   "id": "54b7cfb6-3945-4915-8e13-383d25c061e3",
   "metadata": {},
   "outputs": [
    {
     "name": "stdout",
     "output_type": "stream",
     "text": [
      "Testing Score: 0.7464566355344499\n",
      "Training Score: 0.7476668106746339\n"
     ]
    }
   ],
   "source": [
    "# Create a Logistic Regression model\n",
    "lg = LogisticRegression()\n",
    "\n",
    "# Train the model on the training data\n",
    "lg.fit(xtrain, ytrain)\n",
    "\n",
    "# Calculate the accuracy score on the test data\n",
    "test_score = lg.score(xtest, ytest)\n",
    "print(\"Testing Score:\", test_score)\n",
    "# Calculate the accuracy score on the training data\n",
    "train_score = lg.score(xtrain, ytrain)\n",
    "print(\"Training Score:\", train_score)"
   ]
  },
  {
   "cell_type": "code",
   "execution_count": 72,
   "id": "f2ae8c1c-b14d-4138-98ea-0b7048fa2615",
   "metadata": {},
   "outputs": [
    {
     "name": "stdout",
     "output_type": "stream",
     "text": [
      "Testing Score: 0.7562274554574493\n",
      "Training Score: 0.7580067562292121\n",
      "Accuracy: 0.7562274554574493\n"
     ]
    }
   ],
   "source": [
    "from sklearn.neural_network import MLPClassifier\n",
    "# Create the MLP classifier\n",
    "clf = MLPClassifier(hidden_layer_sizes=(2,), activation='relu', solver='adam', random_state=42)\n",
    "\n",
    "# Train the classifier\n",
    "clf.fit(xtrain, ytrain)\n",
    "\n",
    "# Calculate the accuracy score on the test data\n",
    "test_score = clf.score(xtest, ytest)\n",
    "print(\"Testing Score:\", test_score)\n",
    "\n",
    "# Calculate the accuracy score on the training data\n",
    "train_score = clf.score(xtrain, ytrain)\n",
    "print(\"Training Score:\", train_score)\n",
    "\n",
    "\n",
    "# Make predictions on the testing set\n",
    "y_pred = clf.predict(xtest)\n",
    "\n",
    "# Calculate accuracy of the classifier\n",
    "accuracy = accuracy_score(ytest, y_pred)\n",
    "print(\"Accuracy:\", accuracy)"
   ]
  },
  {
   "cell_type": "markdown",
   "id": "61474a32-8471-4c86-be9b-4400f013fa21",
   "metadata": {},
   "source": [
    "#### classification model"
   ]
  },
  {
   "cell_type": "code",
   "execution_count": 73,
   "id": "e9d3b1c7-7806-45f6-8b32-3c9826121aca",
   "metadata": {},
   "outputs": [
    {
     "name": "stdout",
     "output_type": "stream",
     "text": [
      "Decision Tree Accuracy: 0.9488\n",
      "Random Forest Accuracy: 0.9643\n",
      "Logistic Regression Accuracy: 0.7465\n",
      "ExtraTreesClassifier Accuracy: 0.9719\n",
      "XGBClassifier Accuracy: 0.7824\n"
     ]
    }
   ],
   "source": [
    "# Split data into training and testing sets\n",
    "xtrain, xtest, ytrain, ytest = train_test_split(x_new, y_new, test_size=0.3, random_state=42)\n",
    "\n",
    "# Standardize features\n",
    "scaler = StandardScaler()\n",
    "xtrain = scaler.fit_transform(xtrain)\n",
    "xtest = scaler.transform(xtest)\n",
    "\n",
    "# Initialize and train classification models\n",
    "models = {\n",
    "    'Decision Tree': DecisionTreeClassifier(),\n",
    "    'Random Forest': RandomForestClassifier(),\n",
    "    'Logistic Regression': LogisticRegression(),\n",
    "    'ExtraTreesClassifier': ExtraTreesClassifier(),\n",
    "    'XGBClassifier': XGBClassifier()\n",
    "    #'Support Vector Machine': SVC()\n",
    "}\n",
    "\n",
    "for model_name, model in models.items():\n",
    "    # Train the model\n",
    "    model.fit(xtrain, ytrain)\n",
    "\n",
    "    # Make predictions\n",
    "    y_pred = model.predict(xtest)\n",
    "\n",
    "    # Evaluate accuracy\n",
    "    accuracy = accuracy_score(ytest, y_pred)\n",
    "    print(f'{model_name} Accuracy: {accuracy:.4f}')"
   ]
  },
  {
   "cell_type": "markdown",
   "id": "8c84ad74-065a-4388-8fed-7759296e9697",
   "metadata": {},
   "source": [
    "#### Ensemble"
   ]
  },
  {
   "cell_type": "code",
   "execution_count": 74,
   "id": "13cdd62e-cbb8-4e07-9e33-dc1dc4b1ffc2",
   "metadata": {},
   "outputs": [
    {
     "name": "stdout",
     "output_type": "stream",
     "text": [
      "Bagging Accuracy: 0.9640016031674703\n",
      "Boosting Accuracy: 0.7582010517750222\n",
      "Stacking Accuracy: 0.9481581791904005\n"
     ]
    }
   ],
   "source": [
    "# Bagging\n",
    "bagging_model = RandomForestClassifier(n_estimators=10, random_state=42)\n",
    "bagging_model.fit(xtrain, ytrain)\n",
    "bagging_pred = bagging_model.predict(xtest)\n",
    "print(\"Bagging Accuracy:\", accuracy_score(ytest, bagging_pred))\n",
    "from sklearn.ensemble import AdaBoostClassifier\n",
    "\n",
    "# Boosting\n",
    "boosting_model = AdaBoostClassifier(random_state=42)\n",
    "boosting_model.fit(xtrain, ytrain)\n",
    "boosting_pred = boosting_model.predict(xtest)\n",
    "print(\"Boosting Accuracy:\", accuracy_score(ytest, boosting_pred))\n",
    "\n",
    "# Stacking\n",
    "base_models = [\n",
    "    ('decision_tree', DecisionTreeClassifier()),\n",
    "    ('logistic_regression', LogisticRegression())\n",
    "]\n",
    "stacking_model = StackingClassifier(estimators=base_models, final_estimator=LogisticRegression())\n",
    "stacking_model.fit(xtrain, ytrain)\n",
    "stacking_pred = stacking_model.predict(xtest)\n",
    "print(\"Stacking Accuracy:\", accuracy_score(ytest, stacking_pred))"
   ]
  },
  {
   "cell_type": "markdown",
   "id": "560ddaa9-e53b-4d23-a804-6a9c23b18147",
   "metadata": {},
   "source": [
    "#### Modeling"
   ]
  },
  {
   "cell_type": "code",
   "execution_count": 76,
   "id": "a61cf059-3a27-4844-8486-9b0c79b6f6ef",
   "metadata": {},
   "outputs": [],
   "source": [
    "def evaluate_model(model, xtest, ytest):\n",
    "   \n",
    "    # Predict Test Data \n",
    "    ypred = model.predict(xtest)\n",
    "\n",
    "    # Calculate accuracy, precision, recall, f1-score, and kappa score\n",
    "    acc = metrics.accuracy_score(ytest, ypred)\n",
    "    prec = metrics.precision_score(ytest, ypred)\n",
    "    rec = metrics.recall_score(ytest, ypred)\n",
    "    f1 = metrics.f1_score(ytest, ypred)\n",
    "    kappa = metrics.cohen_kappa_score(ytest, ypred)\n",
    "\n",
    "    # Calculate area under curve (AUC)\n",
    "    ypred_proba = model.predict_proba(xtest)[::,1]\n",
    "    fpr, tpr, _ = metrics.roc_curve(ytest, ypred_proba)\n",
    "    auc = metrics.roc_auc_score(ytest, ypred_proba)\n",
    "\n",
    "    # Display confussion matrix\n",
    "    cm = metrics.confusion_matrix(ytest, ypred)\n",
    "\n",
    "    return {'acc': acc, 'prec': prec, 'rec': rec, 'f1': f1, 'kappa': kappa, \n",
    "            'fpr': fpr, 'tpr': tpr, 'auc': auc, 'cm': cm}"
   ]
  },
  {
   "cell_type": "code",
   "execution_count": 77,
   "id": "2a660f99-9d60-40e3-b820-1516607bfd14",
   "metadata": {},
   "outputs": [
    {
     "data": {
      "text/plain": [
       "array([[-0.76049382, -0.99107662, -0.249487  , ..., -0.43410063,\n",
       "        -0.29095031, -0.39599276],\n",
       "       [ 0.64561895, -0.99107662, -0.249487  , ..., -0.43410063,\n",
       "        -0.29095031, -0.39599276],\n",
       "       [-0.86879755, -0.99107662, -0.249487  , ..., -0.43410063,\n",
       "        -0.29095031, -0.39599276],\n",
       "       ...,\n",
       "       [ 0.63460502,  1.00900373, -0.249487  , ..., -0.43410063,\n",
       "        -0.29095031, -0.39599276],\n",
       "       [-0.05193047, -0.99107662, -0.249487  , ...,  2.30361331,\n",
       "        -0.29095031, -0.39599276],\n",
       "       [-1.27814892, -0.99107662, -0.249487  , ..., -0.43410063,\n",
       "        -0.29095031, -0.39599276]])"
      ]
     },
     "execution_count": 77,
     "metadata": {},
     "output_type": "execute_result"
    }
   ],
   "source": [
    "xtrain"
   ]
  },
  {
   "cell_type": "code",
   "execution_count": 79,
   "id": "e712d70b-4811-4a2d-9507-545578c30d26",
   "metadata": {},
   "outputs": [
    {
     "name": "stdout",
     "output_type": "stream",
     "text": [
      "Accuracy: 0.9641837812890924\n",
      "Precision: 0.9339501908332106\n",
      "Recall: 0.999200300493148\n",
      "F1 Score: 0.9654740440677172\n",
      "Cohens Kappa Score: 0.9283553434079117\n",
      "Area Under Curve: 0.9965441307844028\n",
      "Confusion Matrix:\n",
      " [[76311  5832]\n",
      " [   66 82465]]\n"
     ]
    }
   ],
   "source": [
    " rf1 = RandomForestClassifier()\n",
    "\n",
    "rf1.fit(xtrain, ytrain)\n",
    "\n",
    "# Evaluate Model\n",
    "rf1_eval = evaluate_model(rf1, xtest, ytest)\n",
    "\n",
    "# Print result\n",
    "print('Accuracy:', rf1_eval['acc'])\n",
    "print('Precision:', rf1_eval['prec'])\n",
    "print('Recall:', rf1_eval['rec'])\n",
    "print('F1 Score:', rf1_eval['f1'])\n",
    "print('Cohens Kappa Score:', rf1_eval['kappa'])\n",
    "print('Area Under Curve:', rf1_eval['auc'])\n",
    "print('Confusion Matrix:\\n', rf1_eval['cm'])"
   ]
  },
  {
   "cell_type": "code",
   "execution_count": 80,
   "id": "ab25a8a4-b275-45f2-96f6-0020a589b740",
   "metadata": {},
   "outputs": [
    {
     "name": "stdout",
     "output_type": "stream",
     "text": [
      "Accuracy: 0.9720356583310055\n",
      "Precision: 0.9478505747126437\n",
      "Recall: 0.9991760671747586\n",
      "F1 Score: 0.9728368263031539\n",
      "Cohens Kappa Score: 0.9440638526966137\n",
      "Area Under Curve: 0.9970970549371005\n",
      "Confusion Matrix:\n",
      " [[77606  4537]\n",
      " [   68 82463]]\n"
     ]
    }
   ],
   "source": [
    "extra = ExtraTreesClassifier()\n",
    "\n",
    "extra.fit(xtrain, ytrain)\n",
    "\n",
    "\n",
    "# Evaluate Model\n",
    "extra_eval = evaluate_model(extra, xtest, ytest)\n",
    "\n",
    "# Print result\n",
    "print('Accuracy:', extra_eval['acc'])\n",
    "print('Precision:', extra_eval['prec'])\n",
    "print('Recall:', extra_eval['rec'])\n",
    "print('F1 Score:', extra_eval['f1'])\n",
    "print('Cohens Kappa Score:', extra_eval['kappa'])\n",
    "print('Area Under Curve:', extra_eval['auc'])\n",
    "print('Confusion Matrix:\\n', extra_eval['cm'])"
   ]
  },
  {
   "cell_type": "code",
   "execution_count": 81,
   "id": "cd714c0a-290c-40e8-9563-6b8b99d72f1d",
   "metadata": {},
   "outputs": [
    {
     "name": "stdout",
     "output_type": "stream",
     "text": [
      "Accuracy: 0.7823517980980604\n",
      "Precision: 0.7597178648510335\n",
      "Recall: 0.8274224230895058\n",
      "F1 Score: 0.7921260664551639\n",
      "Cohens Kappa Score: 0.564609541608373\n",
      "Area Under Curve: 0.8612647294051956\n",
      "Confusion Matrix:\n",
      " [[60545 21598]\n",
      " [14243 68288]]\n"
     ]
    }
   ],
   "source": [
    "xgb = XGBClassifier()\n",
    "\n",
    "xgb.fit(xtrain, ytrain)\n",
    "\n",
    "\n",
    "# Evaluate Model\n",
    "xgb_eval = evaluate_model(xgb, xtest, ytest)\n",
    "\n",
    "# Print result\n",
    "print('Accuracy:', xgb_eval['acc'])\n",
    "print('Precision:', xgb_eval['prec'])\n",
    "print('Recall:', xgb_eval['rec'])\n",
    "print('F1 Score:', xgb_eval['f1'])\n",
    "print('Cohens Kappa Score:', xgb_eval['kappa'])\n",
    "print('Area Under Curve:', xgb_eval['auc'])\n",
    "print('Confusion Matrix:\\n', xgb_eval['cm'])"
   ]
  },
  {
   "cell_type": "code",
   "execution_count": 82,
   "id": "1673f077-3968-4190-8612-f068fe6e3c92",
   "metadata": {},
   "outputs": [
    {
     "name": "stdout",
     "output_type": "stream",
     "text": [
      "Accuracy: 0.9641837812890924\n",
      "Precision: 0.9339501908332106\n",
      "Recall: 0.999200300493148\n",
      "F1 Score: 0.9654740440677172\n",
      "Cohens Kappa Score: 0.9283553434079117\n",
      "Area Under Curve: 0.9965441307844028\n",
      "Confusion Matrix:\n",
      " [[76311  5832]\n",
      " [   66 82465]]\n"
     ]
    }
   ],
   "source": [
    "dt1= DecisionTreeClassifier(random_state=0)\n",
    "dt1.fit(xtrain, ytrain)\n",
    "\n",
    "\n",
    "# Evaluate Model\n",
    "dt1_eval = evaluate_model(rf1, xtest, ytest)\n",
    "\n",
    "# Print result\n",
    "print('Accuracy:', dt1_eval['acc'])\n",
    "print('Precision:', dt1_eval['prec'])\n",
    "print('Recall:', dt1_eval['rec'])\n",
    "print('F1 Score:', dt1_eval['f1'])\n",
    "print('Cohens Kappa Score:', dt1_eval['kappa'])\n",
    "print('Area Under Curve:', dt1_eval['auc'])\n",
    "print('Confusion Matrix:\\n', dt1_eval['cm'])"
   ]
  },
  {
   "cell_type": "code",
   "execution_count": 83,
   "id": "8b96cea7-b641-4a24-86e8-c6720843f714",
   "metadata": {},
   "outputs": [
    {
     "name": "stdout",
     "output_type": "stream",
     "text": [
      "Testing Score: 0.7690831582399165\n",
      "Training Score: 0.7732082719564437\n",
      "Accuracy: 0.7690831582399165\n"
     ]
    }
   ],
   "source": [
    "clf = MLPClassifier(random_state=42)\n",
    "\n",
    "# Train the classifier\n",
    "clf.fit(xtrain, ytrain)\n",
    "\n",
    "# Calculate the accuracy score on the test data\n",
    "test_score = clf.score(xtest, ytest)\n",
    "print(\"Testing Score:\", test_score)\n",
    "\n",
    "# Calculate the accuracy score on the training data\n",
    "train_score = clf.score(xtrain, ytrain)\n",
    "print(\"Training Score:\", train_score)\n",
    "\n",
    "\n",
    "# Make predictions on the testing set\n",
    "y_pred = clf.predict(xtest)\n",
    "\n",
    "# Calculate accuracy of the classifier\n",
    "accuracy = accuracy_score(ytest, y_pred)\n",
    "print(\"Accuracy:\", accuracy)"
   ]
  },
  {
   "cell_type": "code",
   "execution_count": 84,
   "id": "999054cb-479b-4377-905c-66553ee45bdf",
   "metadata": {},
   "outputs": [
    {
     "name": "stdout",
     "output_type": "stream",
     "text": [
      "Model saved successfully!\n"
     ]
    }
   ],
   "source": [
    "import pickle\n",
    "\n",
    "# Save model\n",
    "with open('extratrees_model.pkl', 'wb') as file:\n",
    "    pickle.dump(extra, file)\n",
    "\n",
    "print(\"Model saved successfully!\")"
   ]
  },
  {
   "cell_type": "code",
   "execution_count": 85,
   "id": "67c993d2-558d-4901-aebb-2fb70095c100",
   "metadata": {},
   "outputs": [
    {
     "name": "stdout",
     "output_type": "stream",
     "text": [
      "Loaded Model Accuracy: 0.9720356583310055\n"
     ]
    }
   ],
   "source": [
    "# Load model\n",
    "with open('extratrees_model.pkl', 'rb') as file:\n",
    "    loaded_model = pickle.load(file)\n",
    "\n",
    "# Predict using the loaded model\n",
    "y_pred = loaded_model.predict(xtest)\n",
    "\n",
    "# Confirm it's working\n",
    "from sklearn.metrics import accuracy_score\n",
    "print(\"Loaded Model Accuracy:\", accuracy_score(ytest, y_pred))\n"
   ]
  },
  {
   "cell_type": "code",
   "execution_count": 88,
   "id": "168d8080-7e09-4517-8ed8-a3171bde29d6",
   "metadata": {},
   "outputs": [
    {
     "data": {
      "text/html": [
       "<div>\n",
       "<style scoped>\n",
       "    .dataframe tbody tr th:only-of-type {\n",
       "        vertical-align: middle;\n",
       "    }\n",
       "\n",
       "    .dataframe tbody tr th {\n",
       "        vertical-align: top;\n",
       "    }\n",
       "\n",
       "    .dataframe thead th {\n",
       "        text-align: right;\n",
       "    }\n",
       "</style>\n",
       "<table border=\"1\" class=\"dataframe\">\n",
       "  <thead>\n",
       "    <tr style=\"text-align: right;\">\n",
       "      <th></th>\n",
       "      <th>HeartDisease</th>\n",
       "      <th>BMI</th>\n",
       "      <th>Smoking</th>\n",
       "      <th>Stroke</th>\n",
       "      <th>PhysicalHealth</th>\n",
       "      <th>MentalHealth</th>\n",
       "      <th>DiffWalking</th>\n",
       "      <th>Sex</th>\n",
       "      <th>AgeCategory</th>\n",
       "      <th>Race</th>\n",
       "      <th>Diabetic</th>\n",
       "      <th>PhysicalActivity</th>\n",
       "      <th>GenHealth</th>\n",
       "      <th>SleepTime</th>\n",
       "      <th>Asthma</th>\n",
       "    </tr>\n",
       "  </thead>\n",
       "  <tbody>\n",
       "    <tr>\n",
       "      <th>0</th>\n",
       "      <td>0</td>\n",
       "      <td>223</td>\n",
       "      <td>1</td>\n",
       "      <td>0</td>\n",
       "      <td>3</td>\n",
       "      <td>30</td>\n",
       "      <td>0</td>\n",
       "      <td>0</td>\n",
       "      <td>7</td>\n",
       "      <td>5</td>\n",
       "      <td>2</td>\n",
       "      <td>1</td>\n",
       "      <td>4</td>\n",
       "      <td>4</td>\n",
       "      <td>1</td>\n",
       "    </tr>\n",
       "    <tr>\n",
       "      <th>1</th>\n",
       "      <td>0</td>\n",
       "      <td>524</td>\n",
       "      <td>0</td>\n",
       "      <td>1</td>\n",
       "      <td>0</td>\n",
       "      <td>0</td>\n",
       "      <td>0</td>\n",
       "      <td>0</td>\n",
       "      <td>12</td>\n",
       "      <td>5</td>\n",
       "      <td>0</td>\n",
       "      <td>1</td>\n",
       "      <td>4</td>\n",
       "      <td>6</td>\n",
       "      <td>0</td>\n",
       "    </tr>\n",
       "    <tr>\n",
       "      <th>2</th>\n",
       "      <td>0</td>\n",
       "      <td>1103</td>\n",
       "      <td>1</td>\n",
       "      <td>0</td>\n",
       "      <td>20</td>\n",
       "      <td>30</td>\n",
       "      <td>0</td>\n",
       "      <td>1</td>\n",
       "      <td>9</td>\n",
       "      <td>5</td>\n",
       "      <td>2</td>\n",
       "      <td>1</td>\n",
       "      <td>1</td>\n",
       "      <td>7</td>\n",
       "      <td>1</td>\n",
       "    </tr>\n",
       "    <tr>\n",
       "      <th>3</th>\n",
       "      <td>0</td>\n",
       "      <td>883</td>\n",
       "      <td>0</td>\n",
       "      <td>0</td>\n",
       "      <td>0</td>\n",
       "      <td>0</td>\n",
       "      <td>0</td>\n",
       "      <td>0</td>\n",
       "      <td>11</td>\n",
       "      <td>5</td>\n",
       "      <td>0</td>\n",
       "      <td>0</td>\n",
       "      <td>2</td>\n",
       "      <td>5</td>\n",
       "      <td>0</td>\n",
       "    </tr>\n",
       "    <tr>\n",
       "      <th>4</th>\n",
       "      <td>0</td>\n",
       "      <td>837</td>\n",
       "      <td>0</td>\n",
       "      <td>0</td>\n",
       "      <td>28</td>\n",
       "      <td>0</td>\n",
       "      <td>1</td>\n",
       "      <td>0</td>\n",
       "      <td>4</td>\n",
       "      <td>5</td>\n",
       "      <td>0</td>\n",
       "      <td>1</td>\n",
       "      <td>4</td>\n",
       "      <td>7</td>\n",
       "      <td>0</td>\n",
       "    </tr>\n",
       "    <tr>\n",
       "      <th>...</th>\n",
       "      <td>...</td>\n",
       "      <td>...</td>\n",
       "      <td>...</td>\n",
       "      <td>...</td>\n",
       "      <td>...</td>\n",
       "      <td>...</td>\n",
       "      <td>...</td>\n",
       "      <td>...</td>\n",
       "      <td>...</td>\n",
       "      <td>...</td>\n",
       "      <td>...</td>\n",
       "      <td>...</td>\n",
       "      <td>...</td>\n",
       "      <td>...</td>\n",
       "      <td>...</td>\n",
       "    </tr>\n",
       "    <tr>\n",
       "      <th>319790</th>\n",
       "      <td>1</td>\n",
       "      <td>1180</td>\n",
       "      <td>1</td>\n",
       "      <td>0</td>\n",
       "      <td>7</td>\n",
       "      <td>0</td>\n",
       "      <td>1</td>\n",
       "      <td>1</td>\n",
       "      <td>8</td>\n",
       "      <td>3</td>\n",
       "      <td>2</td>\n",
       "      <td>0</td>\n",
       "      <td>1</td>\n",
       "      <td>5</td>\n",
       "      <td>1</td>\n",
       "    </tr>\n",
       "    <tr>\n",
       "      <th>319791</th>\n",
       "      <td>0</td>\n",
       "      <td>1397</td>\n",
       "      <td>1</td>\n",
       "      <td>0</td>\n",
       "      <td>0</td>\n",
       "      <td>0</td>\n",
       "      <td>0</td>\n",
       "      <td>1</td>\n",
       "      <td>3</td>\n",
       "      <td>3</td>\n",
       "      <td>0</td>\n",
       "      <td>1</td>\n",
       "      <td>4</td>\n",
       "      <td>4</td>\n",
       "      <td>1</td>\n",
       "    </tr>\n",
       "    <tr>\n",
       "      <th>319792</th>\n",
       "      <td>0</td>\n",
       "      <td>886</td>\n",
       "      <td>0</td>\n",
       "      <td>0</td>\n",
       "      <td>0</td>\n",
       "      <td>0</td>\n",
       "      <td>0</td>\n",
       "      <td>0</td>\n",
       "      <td>5</td>\n",
       "      <td>3</td>\n",
       "      <td>0</td>\n",
       "      <td>1</td>\n",
       "      <td>2</td>\n",
       "      <td>5</td>\n",
       "      <td>0</td>\n",
       "    </tr>\n",
       "    <tr>\n",
       "      <th>319793</th>\n",
       "      <td>0</td>\n",
       "      <td>1658</td>\n",
       "      <td>0</td>\n",
       "      <td>0</td>\n",
       "      <td>0</td>\n",
       "      <td>0</td>\n",
       "      <td>0</td>\n",
       "      <td>0</td>\n",
       "      <td>1</td>\n",
       "      <td>3</td>\n",
       "      <td>0</td>\n",
       "      <td>0</td>\n",
       "      <td>2</td>\n",
       "      <td>11</td>\n",
       "      <td>0</td>\n",
       "    </tr>\n",
       "    <tr>\n",
       "      <th>319794</th>\n",
       "      <td>0</td>\n",
       "      <td>2700</td>\n",
       "      <td>0</td>\n",
       "      <td>0</td>\n",
       "      <td>0</td>\n",
       "      <td>0</td>\n",
       "      <td>0</td>\n",
       "      <td>0</td>\n",
       "      <td>12</td>\n",
       "      <td>3</td>\n",
       "      <td>0</td>\n",
       "      <td>1</td>\n",
       "      <td>2</td>\n",
       "      <td>7</td>\n",
       "      <td>0</td>\n",
       "    </tr>\n",
       "  </tbody>\n",
       "</table>\n",
       "<p>301717 rows × 15 columns</p>\n",
       "</div>"
      ],
      "text/plain": [
       "        HeartDisease   BMI  Smoking  Stroke  PhysicalHealth  MentalHealth  \\\n",
       "0                  0   223        1       0               3            30   \n",
       "1                  0   524        0       1               0             0   \n",
       "2                  0  1103        1       0              20            30   \n",
       "3                  0   883        0       0               0             0   \n",
       "4                  0   837        0       0              28             0   \n",
       "...              ...   ...      ...     ...             ...           ...   \n",
       "319790             1  1180        1       0               7             0   \n",
       "319791             0  1397        1       0               0             0   \n",
       "319792             0   886        0       0               0             0   \n",
       "319793             0  1658        0       0               0             0   \n",
       "319794             0  2700        0       0               0             0   \n",
       "\n",
       "        DiffWalking  Sex  AgeCategory  Race  Diabetic  PhysicalActivity  \\\n",
       "0                 0    0            7     5         2                 1   \n",
       "1                 0    0           12     5         0                 1   \n",
       "2                 0    1            9     5         2                 1   \n",
       "3                 0    0           11     5         0                 0   \n",
       "4                 1    0            4     5         0                 1   \n",
       "...             ...  ...          ...   ...       ...               ...   \n",
       "319790            1    1            8     3         2                 0   \n",
       "319791            0    1            3     3         0                 1   \n",
       "319792            0    0            5     3         0                 1   \n",
       "319793            0    0            1     3         0                 0   \n",
       "319794            0    0           12     3         0                 1   \n",
       "\n",
       "        GenHealth  SleepTime  Asthma  \n",
       "0               4          4       1  \n",
       "1               4          6       0  \n",
       "2               1          7       1  \n",
       "3               2          5       0  \n",
       "4               4          7       0  \n",
       "...           ...        ...     ...  \n",
       "319790          1          5       1  \n",
       "319791          4          4       1  \n",
       "319792          2          5       0  \n",
       "319793          2         11       0  \n",
       "319794          2          7       0  \n",
       "\n",
       "[301717 rows x 15 columns]"
      ]
     },
     "execution_count": 88,
     "metadata": {},
     "output_type": "execute_result"
    }
   ],
   "source": [
    "df"
   ]
  },
  {
   "cell_type": "code",
   "execution_count": 90,
   "id": "8d0ff775-0242-45a2-8eb7-94e0ee2f2f5d",
   "metadata": {},
   "outputs": [
    {
     "data": {
      "text/plain": [
       "array([4, 1, 2, 3, 0])"
      ]
     },
     "execution_count": 90,
     "metadata": {},
     "output_type": "execute_result"
    }
   ],
   "source": [
    "df['GenHealth'].unique()"
   ]
  },
  {
   "cell_type": "code",
   "execution_count": 101,
   "id": "8f7d1e32-4cf7-42e1-95ae-bb7b761cc51c",
   "metadata": {},
   "outputs": [],
   "source": [
    "import pickle\n",
    "import numpy as np\n",
    "\n",
    "def calculate_bmi(weight_kg, height_cm):\n",
    "    height_m = height_cm / 100\n",
    "    return weight_kg / (height_m ** 2)\n",
    "\n",
    "def predict_heart_disease():\n",
    "    # Load the trained ExtraTrees model\n",
    "    # with open('extratrees_model.pkl', 'rb') as file:\n",
    "    #     model = pickle.load(file)\n",
    "    model = loaded_model\n",
    "    threshold=0.5\n",
    "\n",
    "    print(\"🔍 Enter your health and lifestyle details below:\")\n",
    "\n",
    "    # Get user inputs\n",
    "    weight = float(input(\"Weight (in kg): \"))\n",
    "    height = float(input(\"Height (in cm): \"))\n",
    "    bmi = calculate_bmi(weight, height)\n",
    "\n",
    "    smoking = int(input(\"Do you smoke? (1 = Yes, 0 = No): \"))\n",
    "    stroke = int(input(\"Have you ever had a stroke? (1 = Yes, 0 = No): \"))\n",
    "    diff_walking = int(input(\"Do you have difficulty walking? (1 = Yes, 0 = No): \"))\n",
    "    physical_health = int(input(\"Number of physically unhealthy days in last 30 days (0-30): \"))\n",
    "    mental_health = int(input(\"Number of mentally unhealthy days in last 30 days (0-30): \"))\n",
    "    sex = int(input(\"Sex (1 = Male, 0 = Female): \"))\n",
    "    age_category = int(input(\"Age Group (e.g., 18-24:1, 25-29:2, ..., 80+:13): \"))\n",
    "    race = int(input(\"Race (0=Other, 1=American Indian/Alaskan Native, 2=Black, 3=Asian, 4=Hispanic, 5=White): \"))\n",
    "    diabetic = int(input(\"Are you diabetic? (1 = Yes, 0 = No): \"))\n",
    "    physical_activity = int(input(\"Do you engage in physical activity? (1 = Yes, 0 = No): \"))\n",
    "    general_health = int(input(\"General Health (0=Poor, 1=Fair, 2=Good, 3=Very Good, 4=Excellent): \"))\n",
    "    sleep_time = float(input(\"Average hours of sleep per night: \"))\n",
    "    asthma = int(input(\"Do you have asthma? (1 = Yes, 0 = No): \"))\n",
    "\n",
    "    # Set default values\n",
    "    alcohol_drinking = 0\n",
    "    kidney_disease = 0\n",
    "    skin_cancer = 0\n",
    "\n",
    "    # Create feature vector (order should match training)\n",
    "    input_features = np.array([[\n",
    "        bmi, smoking, alcohol_drinking, stroke,\n",
    "        physical_health, mental_health, diff_walking,\n",
    "        sex, age_category, race, diabetic,\n",
    "        physical_activity, general_health, sleep_time,\n",
    "        asthma, kidney_disease, skin_cancer\n",
    "    ]])\n",
    "\n",
    "     # Prediction and probability\n",
    "    prob = model.predict_proba(input_features)[0][1]\n",
    "    prediction = int(prob >= threshold)\n",
    "\n",
    "    print(\"\\n🔎 Prediction Result:\")\n",
    "    if prediction == 1:\n",
    "        print(\"⚠️ You may be at risk of heart disease. Please consult a healthcare professional.\")\n",
    "    else:\n",
    "        print(\"✅ No immediate risk of heart disease detected. Stay healthy!\")\n",
    "\n",
    "    print(f\"Model confidence: {prob:.2%} likelihood of heart disease.\")\n",
    "\n",
    "    if 0.4 <= prob <= 0.6:\n",
    "        print(\"🟡 This is a borderline case. It is recommended to review your health parameters or consult a doctor.\")\n",
    "\n"
   ]
  },
  {
   "cell_type": "code",
   "execution_count": 104,
   "id": "a4bf442b-6f46-4bc9-b3ba-5bb815affdc3",
   "metadata": {},
   "outputs": [
    {
     "name": "stdout",
     "output_type": "stream",
     "text": [
      "🔍 Enter your health and lifestyle details below:\n"
     ]
    },
    {
     "name": "stdin",
     "output_type": "stream",
     "text": [
      "Weight (in kg):  120\n",
      "Height (in cm):  160\n",
      "Do you smoke? (1 = Yes, 0 = No):  1\n",
      "Have you ever had a stroke? (1 = Yes, 0 = No):  1\n",
      "Do you have difficulty walking? (1 = Yes, 0 = No):  1\n",
      "Number of physically unhealthy days in last 30 days (0-30):  30\n",
      "Number of mentally unhealthy days in last 30 days (0-30):  30\n",
      "Sex (1 = Male, 0 = Female):  1\n",
      "Age Group (e.g., 18-24:1, 25-29:2, ..., 80+:13):  10\n",
      "Race (0=Other, 1=American Indian/Alaskan Native, 2=Black, 3=Asian, 4=Hispanic, 5=White):  5\n",
      "Are you diabetic? (1 = Yes, 0 = No):  1\n",
      "Do you engage in physical activity? (1 = Yes, 0 = No):  0\n",
      "General Health (0=Poor, 1=Fair, 2=Good, 3=Very Good, 4=Excellent):  0\n",
      "Average hours of sleep per night:  2\n",
      "Do you have asthma? (1 = Yes, 0 = No):  1\n"
     ]
    },
    {
     "name": "stdout",
     "output_type": "stream",
     "text": [
      "\n",
      "🔎 Prediction Result:\n",
      "✅ No immediate risk of heart disease detected. Stay healthy!\n",
      "Model confidence: 44.00% likelihood of heart disease.\n",
      "🟡 This is a borderline case. It is recommended to review your health parameters or consult a doctor.\n"
     ]
    }
   ],
   "source": [
    "predict_heart_disease()"
   ]
  },
  {
   "cell_type": "code",
   "execution_count": null,
   "id": "b45b355c-3684-492b-be42-95b0c833787f",
   "metadata": {},
   "outputs": [],
   "source": []
  }
 ],
 "metadata": {
  "kernelspec": {
   "display_name": "Python 3 (ipykernel)",
   "language": "python",
   "name": "python3"
  },
  "language_info": {
   "codemirror_mode": {
    "name": "ipython",
    "version": 3
   },
   "file_extension": ".py",
   "mimetype": "text/x-python",
   "name": "python",
   "nbconvert_exporter": "python",
   "pygments_lexer": "ipython3",
   "version": "3.12.0"
  }
 },
 "nbformat": 4,
 "nbformat_minor": 5
}
